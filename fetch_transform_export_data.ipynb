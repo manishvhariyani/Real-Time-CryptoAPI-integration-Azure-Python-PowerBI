{
  "cells": [
    {
      "cell_type": "code",
      "source": [
        "# importing libraries\n",
        "\n",
        "from requests import Request, Session\n",
        "from requests.exceptions import ConnectionError, Timeout, TooManyRedirects\n",
        "import json\n",
        "import pandas as pd\n",
        "import csv\n",
        "import os\n",
        "from time import time\n",
        "from time import sleep\n",
        "\n",
        "# connecting to Coinmarketcap API\n",
        "\n",
        "url = 'https://pro-api.coinmarketcap.com/v1/cryptocurrency/listings/latest' \n",
        "#Original Sandbox Environment: 'https://sandbox-api.coinmarketcap.com/v1/cryptocurrency/listings/latest'\n",
        "parameters = {\n",
        "  'start':'1',\n",
        "  'limit':'10',\n",
        "  'convert':'USD'\n",
        "}\n",
        "headers = {\n",
        "  'Accepts': 'application/json',\n",
        "  'X-CMC_PRO_API_KEY': '0ad53085-1cb2-4eb8-ad9e-3ffbd7e56509',\n",
        "}\n",
        "\n",
        "session = Session()\n",
        "session.headers.update(headers)\n",
        "\n",
        "# Fetching data from api\n",
        "try:\n",
        "  response = session.get(url, params=parameters)\n",
        "  data = json.loads(response.text)\n",
        "  #print(data)\n",
        "except (ConnectionError, Timeout, TooManyRedirects) as e:\n",
        "  print(e)\n",
        "\n",
        "\n",
        "\n",
        "#This allows you to see all the columns, not just like 10-15\n",
        "pd.set_option('display.max_columns', None)\n",
        "#pd.set_option('display.max_rows', None)\n",
        "\n",
        "#This normalizes the data and makes it all pretty in a dataframe\n",
        "\n",
        "df = pd.json_normalize(data['data'])\n",
        "\n",
        "df['timestamp'] = pd.to_datetime('now')\n",
        "\n",
        "df"
      ],
      "outputs": [
        {
          "output_type": "display_data",
          "data": {
            "application/vnd.livy.statement-meta+json": {
              "spark_pool": null,
              "session_id": null,
              "statement_id": null,
              "state": "cancelled",
              "livy_statement_state": null,
              "queued_time": "2023-10-22T23:47:45.1931789Z",
              "session_start_time": "2023-10-22T23:47:45.1945833Z",
              "execution_start_time": null,
              "execution_finish_time": "2023-10-22T23:47:55.5266522Z",
              "spark_jobs": null,
              "parent_msg_id": "ade6a82e-500b-4fad-8ba6-41e12ef9436f"
            },
            "text/plain": "StatementMeta(, , , Cancelled, )"
          },
          "metadata": {}
        }
      ],
      "execution_count": 1,
      "metadata": {
        "gather": {
          "logged": 1698018475703
        }
      }
    },
    {
      "cell_type": "code",
      "source": [
        "# Writing an auto fetch function for fetching data\n",
        "\n",
        "def auto_fetch():\n",
        "  global df\n",
        "  url = 'https://pro-api.coinmarketcap.com/v1/cryptocurrency/listings/latest' \n",
        "  #Original Sandbox Environment: 'https://sandbox-api.coinmarketcap.com/v1/cryptocurrency/listings/latest'\n",
        "  parameters = {\n",
        "    'start':'1',\n",
        "    'limit':'10',\n",
        "    'convert':'USD'\n",
        "    }\n",
        "  headers = {\n",
        "    'Accepts': 'application/json',\n",
        "    'X-CMC_PRO_API_KEY': '0ad53085-1cb2-4eb8-ad9e-3ffbd7e56509',\n",
        "    }\n",
        "\n",
        "  session = Session()\n",
        "  session.headers.update(headers)\n",
        "\n",
        "  try:\n",
        "    response = session.get(url, params=parameters)\n",
        "    data = json.loads(response.text)\n",
        "    #print(data)\n",
        "  except (ConnectionError, Timeout, TooManyRedirects) as e:\n",
        "    print(e)\n",
        "  #This allows you to see all the columns, not just like 10-15\n",
        "  pd.set_option('display.max_columns', None)\n",
        "  #pd.set_option('display.max_rows', None)\n",
        "\n",
        "  #This normalizes the data and makes it all pretty in a dataframe\n",
        "\n",
        "  df2 = pd.json_normalize(data['data'])\n",
        "\n",
        "  df2['timestamp'] = pd.to_datetime('now')\n",
        "\n",
        "  df = df.append(df2)\n",
        "\n",
        "  # if not os.path.isfile(r'C:\\Users\\brain\\Azure Project\\autofetch.csv'):\n",
        "  #   df.to_csv(r'C:\\Users\\brain\\Azure Project\\autofetch.csv', header='column_names')\n",
        "  # else:\n",
        "  #   df.to_csv(r'C:\\Users\\brain\\Azure Project\\autofetch.csv', mode='a', header=False)\n",
        "\n"
      ],
      "outputs": [
        {
          "output_type": "display_data",
          "data": {
            "application/vnd.livy.statement-meta+json": {
              "spark_pool": "3a48cab6-14d7-4197-8a6c-030cdba9ac7c",
              "session_id": "2",
              "statement_id": 8,
              "state": "finished",
              "livy_statement_state": "available",
              "queued_time": "2023-10-19T01:28:51.6489092Z",
              "session_start_time": null,
              "execution_start_time": "2023-10-19T01:28:51.7455014Z",
              "execution_finish_time": "2023-10-19T01:28:52.8223891Z",
              "spark_jobs": {
                "numbers": {
                  "SUCCEEDED": 0,
                  "UNKNOWN": 0,
                  "FAILED": 0,
                  "RUNNING": 0
                },
                "jobs": [],
                "limit": 20,
                "rule": "ALL_DESC"
              },
              "parent_msg_id": "ecfb7330-381f-4f92-a8a3-6b505fdba603"
            },
            "text/plain": "StatementMeta(3a48cab6-14d7-4197-8a6c-030cdba9ac7c, 2, 8, Finished, Available)"
          },
          "metadata": {}
        }
      ],
      "execution_count": 3,
      "metadata": {
        "jupyter": {
          "source_hidden": false,
          "outputs_hidden": false
        },
        "nteract": {
          "transient": {
            "deleting": false
          }
        },
        "gather": {
          "logged": 1698018705975
        }
      }
    },
    {
      "cell_type": "code",
      "source": [
        "# Fetching Crypto data every minute\n",
        "\n",
        "for i in range(300):\n",
        "    auto_fetch()\n",
        "    print('Fetching data through API completed')\n",
        "    sleep(60) #Fetching data every minute\n",
        "exit()\n"
      ],
      "outputs": [
        {
          "output_type": "display_data",
          "data": {
            "application/vnd.livy.statement-meta+json": {
              "spark_pool": "3a48cab6-14d7-4197-8a6c-030cdba9ac7c",
              "session_id": "2",
              "statement_id": 9,
              "state": "cancelled",
              "livy_statement_state": "waiting",
              "queued_time": "2023-10-19T01:28:57.0194437Z",
              "session_start_time": null,
              "execution_start_time": "2023-10-19T01:28:57.117729Z",
              "execution_finish_time": "2023-10-19T01:34:14.4234953Z",
              "spark_jobs": {
                "numbers": {
                  "SUCCEEDED": 0,
                  "UNKNOWN": 0,
                  "FAILED": 0,
                  "RUNNING": 0
                },
                "jobs": [],
                "limit": 20,
                "rule": "ALL_DESC"
              },
              "parent_msg_id": "d067138c-486e-4903-99db-f50fc53c74e9"
            },
            "text/plain": "StatementMeta(3a48cab6-14d7-4197-8a6c-030cdba9ac7c, 2, 9, Cancelled, Waiting)"
          },
          "metadata": {}
        },
        {
          "output_type": "stream",
          "name": "stdout",
          "text": "Fetching data through API completed\nFetching data through API completed\nFetching data through API completed\nFetching data through API completed\nFetching data through API completed\nFetching data through API completed\n"
        }
      ],
      "execution_count": 4,
      "metadata": {
        "jupyter": {
          "source_hidden": false,
          "outputs_hidden": false
        },
        "nteract": {
          "transient": {
            "deleting": false
          }
        },
        "gather": {
          "logged": 1697679254207
        }
      }
    },
    {
      "cell_type": "code",
      "source": [
        "df"
      ],
      "outputs": [
        {
          "output_type": "display_data",
          "data": {
            "application/vnd.livy.statement-meta+json": {
              "spark_pool": "3a48cab6-14d7-4197-8a6c-030cdba9ac7c",
              "session_id": "2",
              "statement_id": 10,
              "state": "finished",
              "livy_statement_state": "available",
              "queued_time": "2023-10-19T01:34:18.0588191Z",
              "session_start_time": null,
              "execution_start_time": "2023-10-19T01:34:18.1617122Z",
              "execution_finish_time": "2023-10-19T01:34:20.0622003Z",
              "spark_jobs": {
                "numbers": {
                  "SUCCEEDED": 0,
                  "UNKNOWN": 0,
                  "FAILED": 0,
                  "RUNNING": 0
                },
                "jobs": [],
                "limit": 20,
                "rule": "ALL_DESC"
              },
              "parent_msg_id": "791c7e60-5c77-4e4d-9a27-7f1f041227ae"
            },
            "text/plain": "StatementMeta(3a48cab6-14d7-4197-8a6c-030cdba9ac7c, 2, 10, Finished, Available)"
          },
          "metadata": {}
        },
        {
          "output_type": "execute_result",
          "execution_count": 19,
          "data": {
            "text/plain": "      id         name symbol      slug  num_market_pairs  \\\n0      1      Bitcoin    BTC   bitcoin             10496   \n1   1027     Ethereum    ETH  ethereum              7569   \n2    825  Tether USDt   USDT    tether             63992   \n3   1839          BNB    BNB       bnb              1689   \n4     52          XRP    XRP       xrp              1117   \n..   ...          ...    ...       ...               ...   \n5   3408         USDC   USDC  usd-coin             14516   \n6   5426       Solana    SOL    solana               537   \n7   2010      Cardano    ADA   cardano               947   \n8     74     Dogecoin   DOGE  dogecoin               809   \n9   1958         TRON    TRX      tron               853   \n\n                  date_added  \\\n0   2010-07-13T00:00:00.000Z   \n1   2015-08-07T00:00:00.000Z   \n2   2015-02-25T00:00:00.000Z   \n3   2017-07-25T00:00:00.000Z   \n4   2013-08-04T00:00:00.000Z   \n..                       ...   \n5   2018-10-08T00:00:00.000Z   \n6   2020-04-10T00:00:00.000Z   \n7   2017-10-01T00:00:00.000Z   \n8   2013-12-15T00:00:00.000Z   \n9   2017-09-13T00:00:00.000Z   \n\n                                                 tags    max_supply  \\\n0   [mineable, pow, sha-256, store-of-value, state...  2.100000e+07   \n1   [pos, smart-contracts, ethereum-ecosystem, coi...           NaN   \n2   [payments, stablecoin, asset-backed-stablecoin...           NaN   \n3   [marketplace, centralized-exchange, payments, ...           NaN   \n4   [medium-of-exchange, enterprise-solutions, arr...  1.000000e+11   \n..                                                ...           ...   \n5   [medium-of-exchange, stablecoin, asset-backed-...           NaN   \n6   [pos, platform, solana-ecosystem, cms-holdings...           NaN   \n7   [dpos, pos, platform, research, smart-contract...  4.500000e+10   \n8   [mineable, pow, scrypt, medium-of-exchange, me...           NaN   \n9   [media, payments, tron-ecosystem, dwf-labs-por...           NaN   \n\n    circulating_supply  total_supply  infinite_supply  platform  cmc_rank  \\\n0         1.951771e+07  1.951771e+07            False       NaN         1   \n1         1.202623e+08  1.202623e+08             True       NaN         2   \n2         8.381488e+10  8.662567e+10             True       NaN         3   \n3         1.517055e+08  1.517055e+08            False       NaN         4   \n4         5.344103e+10  9.998836e+10            False       NaN         5   \n..                 ...           ...              ...       ...       ...   \n5         2.536666e+10  2.536666e+10            False       NaN         6   \n6         4.164750e+08  5.602064e+08             True       NaN         7   \n7         3.521860e+10  3.627473e+10            False       NaN         8   \n8         1.414687e+11  1.414687e+11             True       NaN         9   \n9         8.890812e+10  8.890813e+10             True       NaN        10   \n\n    self_reported_circulating_supply  self_reported_market_cap tvl_ratio  \\\n0                                NaN                       NaN      None   \n1                                NaN                       NaN      None   \n2                                NaN                       NaN      None   \n3                                NaN                       NaN      None   \n4                                NaN                       NaN      None   \n..                               ...                       ...       ...   \n5                                NaN                       NaN      None   \n6                                NaN                       NaN      None   \n7                                NaN                       NaN      None   \n8                                NaN                       NaN      None   \n9                       7.165966e+10              6.367841e+09      None   \n\n                last_updated  quote.USD.price  quote.USD.volume_24h  \\\n0   2023-10-19T01:26:00.000Z     28379.319930          1.271216e+10   \n1   2023-10-19T01:26:00.000Z      1565.134046          4.326958e+09   \n2   2023-10-19T01:26:00.000Z         1.000238          3.198289e+10   \n3   2023-10-19T01:26:00.000Z       210.672703          2.762166e+08   \n4   2023-10-19T01:26:00.000Z         0.488082          7.217052e+08   \n..                       ...              ...                   ...   \n5   2023-10-19T01:32:00.000Z         1.000009          2.606239e+09   \n6   2023-10-19T01:32:00.000Z        23.496369          3.571250e+08   \n7   2023-10-19T01:32:00.000Z         0.244049          1.088455e+08   \n8   2023-10-19T01:32:00.000Z         0.058561          1.112189e+08   \n9   2023-10-19T01:32:00.000Z         0.088862          1.795004e+08   \n\n    quote.USD.volume_change_24h  quote.USD.percent_change_1h  \\\n0                      -11.2862                     0.091885   \n1                      -11.6654                    -0.024663   \n2                      -14.1757                    -0.001721   \n3                      -20.2694                     0.103102   \n4                       -6.1184                    -0.060337   \n..                          ...                          ...   \n5                       -6.1975                    -0.008599   \n6                      -29.7153                    -0.051219   \n7                      -15.7155                     0.143997   \n8                      -27.4021                    -0.190262   \n9                        2.9035                    -0.170587   \n\n    quote.USD.percent_change_24h  quote.USD.percent_change_7d  \\\n0                       0.082761                     6.074173   \n1                      -0.078394                     0.397698   \n2                      -0.017359                     0.029853   \n3                      -0.309214                     2.687252   \n4                      -0.270903                     0.643803   \n..                           ...                          ...   \n5                      -0.014394                     0.007443   \n6                      -1.897283                     8.011396   \n7                      -0.841270                    -0.894207   \n8                      -0.546508                     0.629987   \n9                       0.126956                     3.061925   \n\n    quote.USD.percent_change_30d  quote.USD.percent_change_60d  \\\n0                       6.159055                      8.812658   \n1                      -4.145010                     -6.073878   \n2                      -0.009105                      0.016459   \n3                      -2.585136                     -2.817877   \n4                      -2.953087                     -5.964563   \n..                           ...                           ...   \n5                      -0.006993                     -0.005129   \n6                      18.583261                      7.787797   \n7                      -3.042801                     -8.890494   \n8                      -5.643272                     -8.360989   \n9                       5.738896                     19.687037   \n\n    quote.USD.percent_change_90d  quote.USD.market_cap  \\\n0                      -5.005580          5.538992e+11   \n1                     -17.416954          1.882266e+11   \n2                       0.032030          8.383482e+10   \n3                     -13.543312          3.196021e+10   \n4                     -38.574267          2.608360e+10   \n..                           ...                   ...   \n5                      -0.005736          2.536689e+10   \n6                      -7.559508          9.785650e+09   \n7                     -22.818456          8.595069e+09   \n8                     -17.351538          8.284606e+09   \n9                       9.887052          7.900579e+09   \n\n    quote.USD.market_cap_dominance  quote.USD.fully_diluted_market_cap  \\\n0                          51.1156                        5.959657e+11   \n1                          17.3719                        1.882266e+11   \n2                           7.7373                        8.664627e+10   \n3                           2.9497                        3.196021e+10   \n4                           2.4073                        4.880820e+10   \n..                             ...                                 ...   \n5                           2.3413                        2.536689e+10   \n6                           0.9030                        1.316282e+10   \n7                           0.7931                        1.098221e+10   \n8                           0.7646                        8.284606e+09   \n9                           0.7291                        7.900579e+09   \n\n   quote.USD.tvl    quote.USD.last_updated  platform.id platform.name  \\\n0           None  2023-10-19T01:26:00.000Z          NaN           NaN   \n1           None  2023-10-19T01:26:00.000Z          NaN           NaN   \n2           None  2023-10-19T01:26:00.000Z       1027.0      Ethereum   \n3           None  2023-10-19T01:26:00.000Z          NaN           NaN   \n4           None  2023-10-19T01:26:00.000Z          NaN           NaN   \n..           ...                       ...          ...           ...   \n5           None  2023-10-19T01:32:00.000Z       1027.0      Ethereum   \n6           None  2023-10-19T01:32:00.000Z          NaN           NaN   \n7           None  2023-10-19T01:32:00.000Z          NaN           NaN   \n8           None  2023-10-19T01:32:00.000Z          NaN           NaN   \n9           None  2023-10-19T01:32:00.000Z          NaN           NaN   \n\n   platform.symbol platform.slug                      platform.token_address  \\\n0              NaN           NaN                                         NaN   \n1              NaN           NaN                                         NaN   \n2              ETH      ethereum  0xdac17f958d2ee523a2206206994597c13d831ec7   \n3              NaN           NaN                                         NaN   \n4              NaN           NaN                                         NaN   \n..             ...           ...                                         ...   \n5              ETH      ethereum  0xa0b86991c6218b36c1d19d4a2e9eb0ce3606eb48   \n6              NaN           NaN                                         NaN   \n7              NaN           NaN                                         NaN   \n8              NaN           NaN                                         NaN   \n9              NaN           NaN                                         NaN   \n\n                    timestamp  \n0  2023-10-19 01:28:44.812276  \n1  2023-10-19 01:28:44.812276  \n2  2023-10-19 01:28:44.812276  \n3  2023-10-19 01:28:44.812276  \n4  2023-10-19 01:28:44.812276  \n..                        ...  \n5  2023-10-19 01:33:59.937082  \n6  2023-10-19 01:33:59.937082  \n7  2023-10-19 01:33:59.937082  \n8  2023-10-19 01:33:59.937082  \n9  2023-10-19 01:33:59.937082  \n\n[70 rows x 37 columns]",
            "text/html": "<div>\n<style scoped>\n    .dataframe tbody tr th:only-of-type {\n        vertical-align: middle;\n    }\n\n    .dataframe tbody tr th {\n        vertical-align: top;\n    }\n\n    .dataframe thead th {\n        text-align: right;\n    }\n</style>\n<table border=\"1\" class=\"dataframe\">\n  <thead>\n    <tr style=\"text-align: right;\">\n      <th></th>\n      <th>id</th>\n      <th>name</th>\n      <th>symbol</th>\n      <th>slug</th>\n      <th>num_market_pairs</th>\n      <th>date_added</th>\n      <th>tags</th>\n      <th>max_supply</th>\n      <th>circulating_supply</th>\n      <th>total_supply</th>\n      <th>infinite_supply</th>\n      <th>platform</th>\n      <th>cmc_rank</th>\n      <th>self_reported_circulating_supply</th>\n      <th>self_reported_market_cap</th>\n      <th>tvl_ratio</th>\n      <th>last_updated</th>\n      <th>quote.USD.price</th>\n      <th>quote.USD.volume_24h</th>\n      <th>quote.USD.volume_change_24h</th>\n      <th>quote.USD.percent_change_1h</th>\n      <th>quote.USD.percent_change_24h</th>\n      <th>quote.USD.percent_change_7d</th>\n      <th>quote.USD.percent_change_30d</th>\n      <th>quote.USD.percent_change_60d</th>\n      <th>quote.USD.percent_change_90d</th>\n      <th>quote.USD.market_cap</th>\n      <th>quote.USD.market_cap_dominance</th>\n      <th>quote.USD.fully_diluted_market_cap</th>\n      <th>quote.USD.tvl</th>\n      <th>quote.USD.last_updated</th>\n      <th>platform.id</th>\n      <th>platform.name</th>\n      <th>platform.symbol</th>\n      <th>platform.slug</th>\n      <th>platform.token_address</th>\n      <th>timestamp</th>\n    </tr>\n  </thead>\n  <tbody>\n    <tr>\n      <th>0</th>\n      <td>1</td>\n      <td>Bitcoin</td>\n      <td>BTC</td>\n      <td>bitcoin</td>\n      <td>10496</td>\n      <td>2010-07-13T00:00:00.000Z</td>\n      <td>[mineable, pow, sha-256, store-of-value, state...</td>\n      <td>2.100000e+07</td>\n      <td>1.951771e+07</td>\n      <td>1.951771e+07</td>\n      <td>False</td>\n      <td>NaN</td>\n      <td>1</td>\n      <td>NaN</td>\n      <td>NaN</td>\n      <td>None</td>\n      <td>2023-10-19T01:26:00.000Z</td>\n      <td>28379.319930</td>\n      <td>1.271216e+10</td>\n      <td>-11.2862</td>\n      <td>0.091885</td>\n      <td>0.082761</td>\n      <td>6.074173</td>\n      <td>6.159055</td>\n      <td>8.812658</td>\n      <td>-5.005580</td>\n      <td>5.538992e+11</td>\n      <td>51.1156</td>\n      <td>5.959657e+11</td>\n      <td>None</td>\n      <td>2023-10-19T01:26:00.000Z</td>\n      <td>NaN</td>\n      <td>NaN</td>\n      <td>NaN</td>\n      <td>NaN</td>\n      <td>NaN</td>\n      <td>2023-10-19 01:28:44.812276</td>\n    </tr>\n    <tr>\n      <th>1</th>\n      <td>1027</td>\n      <td>Ethereum</td>\n      <td>ETH</td>\n      <td>ethereum</td>\n      <td>7569</td>\n      <td>2015-08-07T00:00:00.000Z</td>\n      <td>[pos, smart-contracts, ethereum-ecosystem, coi...</td>\n      <td>NaN</td>\n      <td>1.202623e+08</td>\n      <td>1.202623e+08</td>\n      <td>True</td>\n      <td>NaN</td>\n      <td>2</td>\n      <td>NaN</td>\n      <td>NaN</td>\n      <td>None</td>\n      <td>2023-10-19T01:26:00.000Z</td>\n      <td>1565.134046</td>\n      <td>4.326958e+09</td>\n      <td>-11.6654</td>\n      <td>-0.024663</td>\n      <td>-0.078394</td>\n      <td>0.397698</td>\n      <td>-4.145010</td>\n      <td>-6.073878</td>\n      <td>-17.416954</td>\n      <td>1.882266e+11</td>\n      <td>17.3719</td>\n      <td>1.882266e+11</td>\n      <td>None</td>\n      <td>2023-10-19T01:26:00.000Z</td>\n      <td>NaN</td>\n      <td>NaN</td>\n      <td>NaN</td>\n      <td>NaN</td>\n      <td>NaN</td>\n      <td>2023-10-19 01:28:44.812276</td>\n    </tr>\n    <tr>\n      <th>2</th>\n      <td>825</td>\n      <td>Tether USDt</td>\n      <td>USDT</td>\n      <td>tether</td>\n      <td>63992</td>\n      <td>2015-02-25T00:00:00.000Z</td>\n      <td>[payments, stablecoin, asset-backed-stablecoin...</td>\n      <td>NaN</td>\n      <td>8.381488e+10</td>\n      <td>8.662567e+10</td>\n      <td>True</td>\n      <td>NaN</td>\n      <td>3</td>\n      <td>NaN</td>\n      <td>NaN</td>\n      <td>None</td>\n      <td>2023-10-19T01:26:00.000Z</td>\n      <td>1.000238</td>\n      <td>3.198289e+10</td>\n      <td>-14.1757</td>\n      <td>-0.001721</td>\n      <td>-0.017359</td>\n      <td>0.029853</td>\n      <td>-0.009105</td>\n      <td>0.016459</td>\n      <td>0.032030</td>\n      <td>8.383482e+10</td>\n      <td>7.7373</td>\n      <td>8.664627e+10</td>\n      <td>None</td>\n      <td>2023-10-19T01:26:00.000Z</td>\n      <td>1027.0</td>\n      <td>Ethereum</td>\n      <td>ETH</td>\n      <td>ethereum</td>\n      <td>0xdac17f958d2ee523a2206206994597c13d831ec7</td>\n      <td>2023-10-19 01:28:44.812276</td>\n    </tr>\n    <tr>\n      <th>3</th>\n      <td>1839</td>\n      <td>BNB</td>\n      <td>BNB</td>\n      <td>bnb</td>\n      <td>1689</td>\n      <td>2017-07-25T00:00:00.000Z</td>\n      <td>[marketplace, centralized-exchange, payments, ...</td>\n      <td>NaN</td>\n      <td>1.517055e+08</td>\n      <td>1.517055e+08</td>\n      <td>False</td>\n      <td>NaN</td>\n      <td>4</td>\n      <td>NaN</td>\n      <td>NaN</td>\n      <td>None</td>\n      <td>2023-10-19T01:26:00.000Z</td>\n      <td>210.672703</td>\n      <td>2.762166e+08</td>\n      <td>-20.2694</td>\n      <td>0.103102</td>\n      <td>-0.309214</td>\n      <td>2.687252</td>\n      <td>-2.585136</td>\n      <td>-2.817877</td>\n      <td>-13.543312</td>\n      <td>3.196021e+10</td>\n      <td>2.9497</td>\n      <td>3.196021e+10</td>\n      <td>None</td>\n      <td>2023-10-19T01:26:00.000Z</td>\n      <td>NaN</td>\n      <td>NaN</td>\n      <td>NaN</td>\n      <td>NaN</td>\n      <td>NaN</td>\n      <td>2023-10-19 01:28:44.812276</td>\n    </tr>\n    <tr>\n      <th>4</th>\n      <td>52</td>\n      <td>XRP</td>\n      <td>XRP</td>\n      <td>xrp</td>\n      <td>1117</td>\n      <td>2013-08-04T00:00:00.000Z</td>\n      <td>[medium-of-exchange, enterprise-solutions, arr...</td>\n      <td>1.000000e+11</td>\n      <td>5.344103e+10</td>\n      <td>9.998836e+10</td>\n      <td>False</td>\n      <td>NaN</td>\n      <td>5</td>\n      <td>NaN</td>\n      <td>NaN</td>\n      <td>None</td>\n      <td>2023-10-19T01:26:00.000Z</td>\n      <td>0.488082</td>\n      <td>7.217052e+08</td>\n      <td>-6.1184</td>\n      <td>-0.060337</td>\n      <td>-0.270903</td>\n      <td>0.643803</td>\n      <td>-2.953087</td>\n      <td>-5.964563</td>\n      <td>-38.574267</td>\n      <td>2.608360e+10</td>\n      <td>2.4073</td>\n      <td>4.880820e+10</td>\n      <td>None</td>\n      <td>2023-10-19T01:26:00.000Z</td>\n      <td>NaN</td>\n      <td>NaN</td>\n      <td>NaN</td>\n      <td>NaN</td>\n      <td>NaN</td>\n      <td>2023-10-19 01:28:44.812276</td>\n    </tr>\n    <tr>\n      <th>...</th>\n      <td>...</td>\n      <td>...</td>\n      <td>...</td>\n      <td>...</td>\n      <td>...</td>\n      <td>...</td>\n      <td>...</td>\n      <td>...</td>\n      <td>...</td>\n      <td>...</td>\n      <td>...</td>\n      <td>...</td>\n      <td>...</td>\n      <td>...</td>\n      <td>...</td>\n      <td>...</td>\n      <td>...</td>\n      <td>...</td>\n      <td>...</td>\n      <td>...</td>\n      <td>...</td>\n      <td>...</td>\n      <td>...</td>\n      <td>...</td>\n      <td>...</td>\n      <td>...</td>\n      <td>...</td>\n      <td>...</td>\n      <td>...</td>\n      <td>...</td>\n      <td>...</td>\n      <td>...</td>\n      <td>...</td>\n      <td>...</td>\n      <td>...</td>\n      <td>...</td>\n      <td>...</td>\n    </tr>\n    <tr>\n      <th>5</th>\n      <td>3408</td>\n      <td>USDC</td>\n      <td>USDC</td>\n      <td>usd-coin</td>\n      <td>14516</td>\n      <td>2018-10-08T00:00:00.000Z</td>\n      <td>[medium-of-exchange, stablecoin, asset-backed-...</td>\n      <td>NaN</td>\n      <td>2.536666e+10</td>\n      <td>2.536666e+10</td>\n      <td>False</td>\n      <td>NaN</td>\n      <td>6</td>\n      <td>NaN</td>\n      <td>NaN</td>\n      <td>None</td>\n      <td>2023-10-19T01:32:00.000Z</td>\n      <td>1.000009</td>\n      <td>2.606239e+09</td>\n      <td>-6.1975</td>\n      <td>-0.008599</td>\n      <td>-0.014394</td>\n      <td>0.007443</td>\n      <td>-0.006993</td>\n      <td>-0.005129</td>\n      <td>-0.005736</td>\n      <td>2.536689e+10</td>\n      <td>2.3413</td>\n      <td>2.536689e+10</td>\n      <td>None</td>\n      <td>2023-10-19T01:32:00.000Z</td>\n      <td>1027.0</td>\n      <td>Ethereum</td>\n      <td>ETH</td>\n      <td>ethereum</td>\n      <td>0xa0b86991c6218b36c1d19d4a2e9eb0ce3606eb48</td>\n      <td>2023-10-19 01:33:59.937082</td>\n    </tr>\n    <tr>\n      <th>6</th>\n      <td>5426</td>\n      <td>Solana</td>\n      <td>SOL</td>\n      <td>solana</td>\n      <td>537</td>\n      <td>2020-04-10T00:00:00.000Z</td>\n      <td>[pos, platform, solana-ecosystem, cms-holdings...</td>\n      <td>NaN</td>\n      <td>4.164750e+08</td>\n      <td>5.602064e+08</td>\n      <td>True</td>\n      <td>NaN</td>\n      <td>7</td>\n      <td>NaN</td>\n      <td>NaN</td>\n      <td>None</td>\n      <td>2023-10-19T01:32:00.000Z</td>\n      <td>23.496369</td>\n      <td>3.571250e+08</td>\n      <td>-29.7153</td>\n      <td>-0.051219</td>\n      <td>-1.897283</td>\n      <td>8.011396</td>\n      <td>18.583261</td>\n      <td>7.787797</td>\n      <td>-7.559508</td>\n      <td>9.785650e+09</td>\n      <td>0.9030</td>\n      <td>1.316282e+10</td>\n      <td>None</td>\n      <td>2023-10-19T01:32:00.000Z</td>\n      <td>NaN</td>\n      <td>NaN</td>\n      <td>NaN</td>\n      <td>NaN</td>\n      <td>NaN</td>\n      <td>2023-10-19 01:33:59.937082</td>\n    </tr>\n    <tr>\n      <th>7</th>\n      <td>2010</td>\n      <td>Cardano</td>\n      <td>ADA</td>\n      <td>cardano</td>\n      <td>947</td>\n      <td>2017-10-01T00:00:00.000Z</td>\n      <td>[dpos, pos, platform, research, smart-contract...</td>\n      <td>4.500000e+10</td>\n      <td>3.521860e+10</td>\n      <td>3.627473e+10</td>\n      <td>False</td>\n      <td>NaN</td>\n      <td>8</td>\n      <td>NaN</td>\n      <td>NaN</td>\n      <td>None</td>\n      <td>2023-10-19T01:32:00.000Z</td>\n      <td>0.244049</td>\n      <td>1.088455e+08</td>\n      <td>-15.7155</td>\n      <td>0.143997</td>\n      <td>-0.841270</td>\n      <td>-0.894207</td>\n      <td>-3.042801</td>\n      <td>-8.890494</td>\n      <td>-22.818456</td>\n      <td>8.595069e+09</td>\n      <td>0.7931</td>\n      <td>1.098221e+10</td>\n      <td>None</td>\n      <td>2023-10-19T01:32:00.000Z</td>\n      <td>NaN</td>\n      <td>NaN</td>\n      <td>NaN</td>\n      <td>NaN</td>\n      <td>NaN</td>\n      <td>2023-10-19 01:33:59.937082</td>\n    </tr>\n    <tr>\n      <th>8</th>\n      <td>74</td>\n      <td>Dogecoin</td>\n      <td>DOGE</td>\n      <td>dogecoin</td>\n      <td>809</td>\n      <td>2013-12-15T00:00:00.000Z</td>\n      <td>[mineable, pow, scrypt, medium-of-exchange, me...</td>\n      <td>NaN</td>\n      <td>1.414687e+11</td>\n      <td>1.414687e+11</td>\n      <td>True</td>\n      <td>NaN</td>\n      <td>9</td>\n      <td>NaN</td>\n      <td>NaN</td>\n      <td>None</td>\n      <td>2023-10-19T01:32:00.000Z</td>\n      <td>0.058561</td>\n      <td>1.112189e+08</td>\n      <td>-27.4021</td>\n      <td>-0.190262</td>\n      <td>-0.546508</td>\n      <td>0.629987</td>\n      <td>-5.643272</td>\n      <td>-8.360989</td>\n      <td>-17.351538</td>\n      <td>8.284606e+09</td>\n      <td>0.7646</td>\n      <td>8.284606e+09</td>\n      <td>None</td>\n      <td>2023-10-19T01:32:00.000Z</td>\n      <td>NaN</td>\n      <td>NaN</td>\n      <td>NaN</td>\n      <td>NaN</td>\n      <td>NaN</td>\n      <td>2023-10-19 01:33:59.937082</td>\n    </tr>\n    <tr>\n      <th>9</th>\n      <td>1958</td>\n      <td>TRON</td>\n      <td>TRX</td>\n      <td>tron</td>\n      <td>853</td>\n      <td>2017-09-13T00:00:00.000Z</td>\n      <td>[media, payments, tron-ecosystem, dwf-labs-por...</td>\n      <td>NaN</td>\n      <td>8.890812e+10</td>\n      <td>8.890813e+10</td>\n      <td>True</td>\n      <td>NaN</td>\n      <td>10</td>\n      <td>7.165966e+10</td>\n      <td>6.367841e+09</td>\n      <td>None</td>\n      <td>2023-10-19T01:32:00.000Z</td>\n      <td>0.088862</td>\n      <td>1.795004e+08</td>\n      <td>2.9035</td>\n      <td>-0.170587</td>\n      <td>0.126956</td>\n      <td>3.061925</td>\n      <td>5.738896</td>\n      <td>19.687037</td>\n      <td>9.887052</td>\n      <td>7.900579e+09</td>\n      <td>0.7291</td>\n      <td>7.900579e+09</td>\n      <td>None</td>\n      <td>2023-10-19T01:32:00.000Z</td>\n      <td>NaN</td>\n      <td>NaN</td>\n      <td>NaN</td>\n      <td>NaN</td>\n      <td>NaN</td>\n      <td>2023-10-19 01:33:59.937082</td>\n    </tr>\n  </tbody>\n</table>\n<p>70 rows × 37 columns</p>\n</div>"
          },
          "metadata": {}
        }
      ],
      "execution_count": 5,
      "metadata": {
        "jupyter": {
          "source_hidden": false,
          "outputs_hidden": false
        },
        "nteract": {
          "transient": {
            "deleting": false
          }
        },
        "gather": {
          "logged": 1697679260180
        }
      }
    },
    {
      "cell_type": "code",
      "source": [
        "# Storing raw data in dataset\n",
        "from azureml.core import Workspace, Datastore, Dataset\n",
        "\n",
        "# Specifying Azure Machine Learning workspace\n",
        "subscription_id = '027643ef-e8cb-46b4-94f2-8544da081a79'\n",
        "workspace_name = 'FirstCrypto'\n",
        "resource_group = 'FirstCrypto'\n",
        "\n",
        "ws = Workspace(subscription_id=subscription_id, resource_group=resource_group, workspace_name=workspace_name)\n",
        "# Converting DataFrame to a TabularDataset\n",
        "dataset_name = 'crypto_data'\n",
        "dataset = Dataset.Tabular.register_pandas_dataframe(df, (Datastore.get(ws, 'workspaceblobstore'), dataset_name), dataset_name)\n"
      ],
      "outputs": [
        {
          "output_type": "display_data",
          "data": {
            "application/vnd.livy.statement-meta+json": {
              "spark_pool": "3a48cab6-14d7-4197-8a6c-030cdba9ac7c",
              "session_id": "2",
              "statement_id": 11,
              "state": "finished",
              "livy_statement_state": "available",
              "queued_time": "2023-10-19T01:35:05.6928366Z",
              "session_start_time": null,
              "execution_start_time": "2023-10-19T01:35:05.7815881Z",
              "execution_finish_time": "2023-10-19T01:36:24.0764901Z",
              "spark_jobs": {
                "numbers": {
                  "SUCCEEDED": 0,
                  "UNKNOWN": 0,
                  "FAILED": 0,
                  "RUNNING": 0
                },
                "jobs": [],
                "limit": 20,
                "rule": "ALL_DESC"
              },
              "parent_msg_id": "9b3ac455-b661-4071-8c12-0c68be8ca436"
            },
            "text/plain": "StatementMeta(3a48cab6-14d7-4197-8a6c-030cdba9ac7c, 2, 11, Finished, Available)"
          },
          "metadata": {}
        },
        {
          "output_type": "stream",
          "name": "stdout",
          "text": "Performing interactive authentication. Please follow the instructions on the terminal.\nTo sign in, use a web browser to open the page https://microsoft.com/devicelogin and enter the code JJE9RUZQM to authenticate.\nYou have logged in. Now let us find all the subscriptions to which you have access...\nInteractive authentication successfully completed.\nMethod register_pandas_dataframe: This is an experimental method, and may change at any time. Please see https://aka.ms/azuremlexperimental for more information.\nValidating arguments.\nArguments validated.\nSuccessfully obtained datastore reference and path.\nUploading file to crypto_data/79d4c41a-a6e4-4cfe-9858-c1a83ff4ea5c/\nSuccessfully uploaded file to datastore.\nCreating and registering a new dataset.\nSuccessfully created and registered a new dataset.\n"
        }
      ],
      "execution_count": 6,
      "metadata": {
        "jupyter": {
          "source_hidden": false,
          "outputs_hidden": false
        },
        "nteract": {
          "transient": {
            "deleting": false
          }
        },
        "gather": {
          "logged": 1697679384122
        }
      }
    },
    {
      "cell_type": "code",
      "source": [
        "df"
      ],
      "outputs": [
        {
          "output_type": "display_data",
          "data": {
            "application/vnd.livy.statement-meta+json": {
              "spark_pool": "3a48cab6-14d7-4197-8a6c-030cdba9ac7c",
              "session_id": "2",
              "statement_id": 12,
              "state": "finished",
              "livy_statement_state": "available",
              "queued_time": "2023-10-19T01:36:08.5048704Z",
              "session_start_time": null,
              "execution_start_time": "2023-10-19T01:36:24.1702728Z",
              "execution_finish_time": "2023-10-19T01:36:24.5827668Z",
              "spark_jobs": {
                "numbers": {
                  "SUCCEEDED": 0,
                  "UNKNOWN": 0,
                  "FAILED": 0,
                  "RUNNING": 0
                },
                "jobs": [],
                "limit": 20,
                "rule": "ALL_DESC"
              },
              "parent_msg_id": "7e9cc413-a579-4348-8cb2-41c2566c646b"
            },
            "text/plain": "StatementMeta(3a48cab6-14d7-4197-8a6c-030cdba9ac7c, 2, 12, Finished, Available)"
          },
          "metadata": {}
        },
        {
          "output_type": "execute_result",
          "execution_count": 23,
          "data": {
            "text/plain": "      id         name symbol      slug  num_market_pairs  \\\n0      1      Bitcoin    BTC   bitcoin             10496   \n1   1027     Ethereum    ETH  ethereum              7569   \n2    825  Tether USDt   USDT    tether             63992   \n3   1839          BNB    BNB       bnb              1689   \n4     52          XRP    XRP       xrp              1117   \n..   ...          ...    ...       ...               ...   \n5   3408         USDC   USDC  usd-coin             14516   \n6   5426       Solana    SOL    solana               537   \n7   2010      Cardano    ADA   cardano               947   \n8     74     Dogecoin   DOGE  dogecoin               809   \n9   1958         TRON    TRX      tron               853   \n\n                  date_added  \\\n0   2010-07-13T00:00:00.000Z   \n1   2015-08-07T00:00:00.000Z   \n2   2015-02-25T00:00:00.000Z   \n3   2017-07-25T00:00:00.000Z   \n4   2013-08-04T00:00:00.000Z   \n..                       ...   \n5   2018-10-08T00:00:00.000Z   \n6   2020-04-10T00:00:00.000Z   \n7   2017-10-01T00:00:00.000Z   \n8   2013-12-15T00:00:00.000Z   \n9   2017-09-13T00:00:00.000Z   \n\n                                                 tags    max_supply  \\\n0   [mineable, pow, sha-256, store-of-value, state...  2.100000e+07   \n1   [pos, smart-contracts, ethereum-ecosystem, coi...           NaN   \n2   [payments, stablecoin, asset-backed-stablecoin...           NaN   \n3   [marketplace, centralized-exchange, payments, ...           NaN   \n4   [medium-of-exchange, enterprise-solutions, arr...  1.000000e+11   \n..                                                ...           ...   \n5   [medium-of-exchange, stablecoin, asset-backed-...           NaN   \n6   [pos, platform, solana-ecosystem, cms-holdings...           NaN   \n7   [dpos, pos, platform, research, smart-contract...  4.500000e+10   \n8   [mineable, pow, scrypt, medium-of-exchange, me...           NaN   \n9   [media, payments, tron-ecosystem, dwf-labs-por...           NaN   \n\n    circulating_supply  total_supply  infinite_supply  platform  cmc_rank  \\\n0         1.951771e+07  1.951771e+07            False       NaN         1   \n1         1.202623e+08  1.202623e+08             True       NaN         2   \n2         8.381488e+10  8.662567e+10             True       NaN         3   \n3         1.517055e+08  1.517055e+08            False       NaN         4   \n4         5.344103e+10  9.998836e+10            False       NaN         5   \n..                 ...           ...              ...       ...       ...   \n5         2.536666e+10  2.536666e+10            False       NaN         6   \n6         4.164750e+08  5.602064e+08             True       NaN         7   \n7         3.521860e+10  3.627473e+10            False       NaN         8   \n8         1.414687e+11  1.414687e+11             True       NaN         9   \n9         8.890812e+10  8.890813e+10             True       NaN        10   \n\n    self_reported_circulating_supply  self_reported_market_cap tvl_ratio  \\\n0                                NaN                       NaN      None   \n1                                NaN                       NaN      None   \n2                                NaN                       NaN      None   \n3                                NaN                       NaN      None   \n4                                NaN                       NaN      None   \n..                               ...                       ...       ...   \n5                                NaN                       NaN      None   \n6                                NaN                       NaN      None   \n7                                NaN                       NaN      None   \n8                                NaN                       NaN      None   \n9                       7.165966e+10              6.367841e+09      None   \n\n                last_updated  quote.USD.price  quote.USD.volume_24h  \\\n0   2023-10-19T01:26:00.000Z     28379.319930          1.271216e+10   \n1   2023-10-19T01:26:00.000Z      1565.134046          4.326958e+09   \n2   2023-10-19T01:26:00.000Z         1.000238          3.198289e+10   \n3   2023-10-19T01:26:00.000Z       210.672703          2.762166e+08   \n4   2023-10-19T01:26:00.000Z         0.488082          7.217052e+08   \n..                       ...              ...                   ...   \n5   2023-10-19T01:32:00.000Z         1.000009          2.606239e+09   \n6   2023-10-19T01:32:00.000Z        23.496369          3.571250e+08   \n7   2023-10-19T01:32:00.000Z         0.244049          1.088455e+08   \n8   2023-10-19T01:32:00.000Z         0.058561          1.112189e+08   \n9   2023-10-19T01:32:00.000Z         0.088862          1.795004e+08   \n\n    quote.USD.volume_change_24h  quote.USD.percent_change_1h  \\\n0                      -11.2862                     0.091885   \n1                      -11.6654                    -0.024663   \n2                      -14.1757                    -0.001721   \n3                      -20.2694                     0.103102   \n4                       -6.1184                    -0.060337   \n..                          ...                          ...   \n5                       -6.1975                    -0.008599   \n6                      -29.7153                    -0.051219   \n7                      -15.7155                     0.143997   \n8                      -27.4021                    -0.190262   \n9                        2.9035                    -0.170587   \n\n    quote.USD.percent_change_24h  quote.USD.percent_change_7d  \\\n0                       0.082761                     6.074173   \n1                      -0.078394                     0.397698   \n2                      -0.017359                     0.029853   \n3                      -0.309214                     2.687252   \n4                      -0.270903                     0.643803   \n..                           ...                          ...   \n5                      -0.014394                     0.007443   \n6                      -1.897283                     8.011396   \n7                      -0.841270                    -0.894207   \n8                      -0.546508                     0.629987   \n9                       0.126956                     3.061925   \n\n    quote.USD.percent_change_30d  quote.USD.percent_change_60d  \\\n0                       6.159055                      8.812658   \n1                      -4.145010                     -6.073878   \n2                      -0.009105                      0.016459   \n3                      -2.585136                     -2.817877   \n4                      -2.953087                     -5.964563   \n..                           ...                           ...   \n5                      -0.006993                     -0.005129   \n6                      18.583261                      7.787797   \n7                      -3.042801                     -8.890494   \n8                      -5.643272                     -8.360989   \n9                       5.738896                     19.687037   \n\n    quote.USD.percent_change_90d  quote.USD.market_cap  \\\n0                      -5.005580          5.538992e+11   \n1                     -17.416954          1.882266e+11   \n2                       0.032030          8.383482e+10   \n3                     -13.543312          3.196021e+10   \n4                     -38.574267          2.608360e+10   \n..                           ...                   ...   \n5                      -0.005736          2.536689e+10   \n6                      -7.559508          9.785650e+09   \n7                     -22.818456          8.595069e+09   \n8                     -17.351538          8.284606e+09   \n9                       9.887052          7.900579e+09   \n\n    quote.USD.market_cap_dominance  quote.USD.fully_diluted_market_cap  \\\n0                          51.1156                        5.959657e+11   \n1                          17.3719                        1.882266e+11   \n2                           7.7373                        8.664627e+10   \n3                           2.9497                        3.196021e+10   \n4                           2.4073                        4.880820e+10   \n..                             ...                                 ...   \n5                           2.3413                        2.536689e+10   \n6                           0.9030                        1.316282e+10   \n7                           0.7931                        1.098221e+10   \n8                           0.7646                        8.284606e+09   \n9                           0.7291                        7.900579e+09   \n\n   quote.USD.tvl    quote.USD.last_updated  platform.id platform.name  \\\n0           None  2023-10-19T01:26:00.000Z          NaN           NaN   \n1           None  2023-10-19T01:26:00.000Z          NaN           NaN   \n2           None  2023-10-19T01:26:00.000Z       1027.0      Ethereum   \n3           None  2023-10-19T01:26:00.000Z          NaN           NaN   \n4           None  2023-10-19T01:26:00.000Z          NaN           NaN   \n..           ...                       ...          ...           ...   \n5           None  2023-10-19T01:32:00.000Z       1027.0      Ethereum   \n6           None  2023-10-19T01:32:00.000Z          NaN           NaN   \n7           None  2023-10-19T01:32:00.000Z          NaN           NaN   \n8           None  2023-10-19T01:32:00.000Z          NaN           NaN   \n9           None  2023-10-19T01:32:00.000Z          NaN           NaN   \n\n   platform.symbol platform.slug                      platform.token_address  \\\n0              NaN           NaN                                         NaN   \n1              NaN           NaN                                         NaN   \n2              ETH      ethereum  0xdac17f958d2ee523a2206206994597c13d831ec7   \n3              NaN           NaN                                         NaN   \n4              NaN           NaN                                         NaN   \n..             ...           ...                                         ...   \n5              ETH      ethereum  0xa0b86991c6218b36c1d19d4a2e9eb0ce3606eb48   \n6              NaN           NaN                                         NaN   \n7              NaN           NaN                                         NaN   \n8              NaN           NaN                                         NaN   \n9              NaN           NaN                                         NaN   \n\n                    timestamp  \n0  2023-10-19 01:28:44.812276  \n1  2023-10-19 01:28:44.812276  \n2  2023-10-19 01:28:44.812276  \n3  2023-10-19 01:28:44.812276  \n4  2023-10-19 01:28:44.812276  \n..                        ...  \n5  2023-10-19 01:33:59.937082  \n6  2023-10-19 01:33:59.937082  \n7  2023-10-19 01:33:59.937082  \n8  2023-10-19 01:33:59.937082  \n9  2023-10-19 01:33:59.937082  \n\n[70 rows x 37 columns]",
            "text/html": "<div>\n<style scoped>\n    .dataframe tbody tr th:only-of-type {\n        vertical-align: middle;\n    }\n\n    .dataframe tbody tr th {\n        vertical-align: top;\n    }\n\n    .dataframe thead th {\n        text-align: right;\n    }\n</style>\n<table border=\"1\" class=\"dataframe\">\n  <thead>\n    <tr style=\"text-align: right;\">\n      <th></th>\n      <th>id</th>\n      <th>name</th>\n      <th>symbol</th>\n      <th>slug</th>\n      <th>num_market_pairs</th>\n      <th>date_added</th>\n      <th>tags</th>\n      <th>max_supply</th>\n      <th>circulating_supply</th>\n      <th>total_supply</th>\n      <th>infinite_supply</th>\n      <th>platform</th>\n      <th>cmc_rank</th>\n      <th>self_reported_circulating_supply</th>\n      <th>self_reported_market_cap</th>\n      <th>tvl_ratio</th>\n      <th>last_updated</th>\n      <th>quote.USD.price</th>\n      <th>quote.USD.volume_24h</th>\n      <th>quote.USD.volume_change_24h</th>\n      <th>quote.USD.percent_change_1h</th>\n      <th>quote.USD.percent_change_24h</th>\n      <th>quote.USD.percent_change_7d</th>\n      <th>quote.USD.percent_change_30d</th>\n      <th>quote.USD.percent_change_60d</th>\n      <th>quote.USD.percent_change_90d</th>\n      <th>quote.USD.market_cap</th>\n      <th>quote.USD.market_cap_dominance</th>\n      <th>quote.USD.fully_diluted_market_cap</th>\n      <th>quote.USD.tvl</th>\n      <th>quote.USD.last_updated</th>\n      <th>platform.id</th>\n      <th>platform.name</th>\n      <th>platform.symbol</th>\n      <th>platform.slug</th>\n      <th>platform.token_address</th>\n      <th>timestamp</th>\n    </tr>\n  </thead>\n  <tbody>\n    <tr>\n      <th>0</th>\n      <td>1</td>\n      <td>Bitcoin</td>\n      <td>BTC</td>\n      <td>bitcoin</td>\n      <td>10496</td>\n      <td>2010-07-13T00:00:00.000Z</td>\n      <td>[mineable, pow, sha-256, store-of-value, state...</td>\n      <td>2.100000e+07</td>\n      <td>1.951771e+07</td>\n      <td>1.951771e+07</td>\n      <td>False</td>\n      <td>NaN</td>\n      <td>1</td>\n      <td>NaN</td>\n      <td>NaN</td>\n      <td>None</td>\n      <td>2023-10-19T01:26:00.000Z</td>\n      <td>28379.319930</td>\n      <td>1.271216e+10</td>\n      <td>-11.2862</td>\n      <td>0.091885</td>\n      <td>0.082761</td>\n      <td>6.074173</td>\n      <td>6.159055</td>\n      <td>8.812658</td>\n      <td>-5.005580</td>\n      <td>5.538992e+11</td>\n      <td>51.1156</td>\n      <td>5.959657e+11</td>\n      <td>None</td>\n      <td>2023-10-19T01:26:00.000Z</td>\n      <td>NaN</td>\n      <td>NaN</td>\n      <td>NaN</td>\n      <td>NaN</td>\n      <td>NaN</td>\n      <td>2023-10-19 01:28:44.812276</td>\n    </tr>\n    <tr>\n      <th>1</th>\n      <td>1027</td>\n      <td>Ethereum</td>\n      <td>ETH</td>\n      <td>ethereum</td>\n      <td>7569</td>\n      <td>2015-08-07T00:00:00.000Z</td>\n      <td>[pos, smart-contracts, ethereum-ecosystem, coi...</td>\n      <td>NaN</td>\n      <td>1.202623e+08</td>\n      <td>1.202623e+08</td>\n      <td>True</td>\n      <td>NaN</td>\n      <td>2</td>\n      <td>NaN</td>\n      <td>NaN</td>\n      <td>None</td>\n      <td>2023-10-19T01:26:00.000Z</td>\n      <td>1565.134046</td>\n      <td>4.326958e+09</td>\n      <td>-11.6654</td>\n      <td>-0.024663</td>\n      <td>-0.078394</td>\n      <td>0.397698</td>\n      <td>-4.145010</td>\n      <td>-6.073878</td>\n      <td>-17.416954</td>\n      <td>1.882266e+11</td>\n      <td>17.3719</td>\n      <td>1.882266e+11</td>\n      <td>None</td>\n      <td>2023-10-19T01:26:00.000Z</td>\n      <td>NaN</td>\n      <td>NaN</td>\n      <td>NaN</td>\n      <td>NaN</td>\n      <td>NaN</td>\n      <td>2023-10-19 01:28:44.812276</td>\n    </tr>\n    <tr>\n      <th>2</th>\n      <td>825</td>\n      <td>Tether USDt</td>\n      <td>USDT</td>\n      <td>tether</td>\n      <td>63992</td>\n      <td>2015-02-25T00:00:00.000Z</td>\n      <td>[payments, stablecoin, asset-backed-stablecoin...</td>\n      <td>NaN</td>\n      <td>8.381488e+10</td>\n      <td>8.662567e+10</td>\n      <td>True</td>\n      <td>NaN</td>\n      <td>3</td>\n      <td>NaN</td>\n      <td>NaN</td>\n      <td>None</td>\n      <td>2023-10-19T01:26:00.000Z</td>\n      <td>1.000238</td>\n      <td>3.198289e+10</td>\n      <td>-14.1757</td>\n      <td>-0.001721</td>\n      <td>-0.017359</td>\n      <td>0.029853</td>\n      <td>-0.009105</td>\n      <td>0.016459</td>\n      <td>0.032030</td>\n      <td>8.383482e+10</td>\n      <td>7.7373</td>\n      <td>8.664627e+10</td>\n      <td>None</td>\n      <td>2023-10-19T01:26:00.000Z</td>\n      <td>1027.0</td>\n      <td>Ethereum</td>\n      <td>ETH</td>\n      <td>ethereum</td>\n      <td>0xdac17f958d2ee523a2206206994597c13d831ec7</td>\n      <td>2023-10-19 01:28:44.812276</td>\n    </tr>\n    <tr>\n      <th>3</th>\n      <td>1839</td>\n      <td>BNB</td>\n      <td>BNB</td>\n      <td>bnb</td>\n      <td>1689</td>\n      <td>2017-07-25T00:00:00.000Z</td>\n      <td>[marketplace, centralized-exchange, payments, ...</td>\n      <td>NaN</td>\n      <td>1.517055e+08</td>\n      <td>1.517055e+08</td>\n      <td>False</td>\n      <td>NaN</td>\n      <td>4</td>\n      <td>NaN</td>\n      <td>NaN</td>\n      <td>None</td>\n      <td>2023-10-19T01:26:00.000Z</td>\n      <td>210.672703</td>\n      <td>2.762166e+08</td>\n      <td>-20.2694</td>\n      <td>0.103102</td>\n      <td>-0.309214</td>\n      <td>2.687252</td>\n      <td>-2.585136</td>\n      <td>-2.817877</td>\n      <td>-13.543312</td>\n      <td>3.196021e+10</td>\n      <td>2.9497</td>\n      <td>3.196021e+10</td>\n      <td>None</td>\n      <td>2023-10-19T01:26:00.000Z</td>\n      <td>NaN</td>\n      <td>NaN</td>\n      <td>NaN</td>\n      <td>NaN</td>\n      <td>NaN</td>\n      <td>2023-10-19 01:28:44.812276</td>\n    </tr>\n    <tr>\n      <th>4</th>\n      <td>52</td>\n      <td>XRP</td>\n      <td>XRP</td>\n      <td>xrp</td>\n      <td>1117</td>\n      <td>2013-08-04T00:00:00.000Z</td>\n      <td>[medium-of-exchange, enterprise-solutions, arr...</td>\n      <td>1.000000e+11</td>\n      <td>5.344103e+10</td>\n      <td>9.998836e+10</td>\n      <td>False</td>\n      <td>NaN</td>\n      <td>5</td>\n      <td>NaN</td>\n      <td>NaN</td>\n      <td>None</td>\n      <td>2023-10-19T01:26:00.000Z</td>\n      <td>0.488082</td>\n      <td>7.217052e+08</td>\n      <td>-6.1184</td>\n      <td>-0.060337</td>\n      <td>-0.270903</td>\n      <td>0.643803</td>\n      <td>-2.953087</td>\n      <td>-5.964563</td>\n      <td>-38.574267</td>\n      <td>2.608360e+10</td>\n      <td>2.4073</td>\n      <td>4.880820e+10</td>\n      <td>None</td>\n      <td>2023-10-19T01:26:00.000Z</td>\n      <td>NaN</td>\n      <td>NaN</td>\n      <td>NaN</td>\n      <td>NaN</td>\n      <td>NaN</td>\n      <td>2023-10-19 01:28:44.812276</td>\n    </tr>\n    <tr>\n      <th>...</th>\n      <td>...</td>\n      <td>...</td>\n      <td>...</td>\n      <td>...</td>\n      <td>...</td>\n      <td>...</td>\n      <td>...</td>\n      <td>...</td>\n      <td>...</td>\n      <td>...</td>\n      <td>...</td>\n      <td>...</td>\n      <td>...</td>\n      <td>...</td>\n      <td>...</td>\n      <td>...</td>\n      <td>...</td>\n      <td>...</td>\n      <td>...</td>\n      <td>...</td>\n      <td>...</td>\n      <td>...</td>\n      <td>...</td>\n      <td>...</td>\n      <td>...</td>\n      <td>...</td>\n      <td>...</td>\n      <td>...</td>\n      <td>...</td>\n      <td>...</td>\n      <td>...</td>\n      <td>...</td>\n      <td>...</td>\n      <td>...</td>\n      <td>...</td>\n      <td>...</td>\n      <td>...</td>\n    </tr>\n    <tr>\n      <th>5</th>\n      <td>3408</td>\n      <td>USDC</td>\n      <td>USDC</td>\n      <td>usd-coin</td>\n      <td>14516</td>\n      <td>2018-10-08T00:00:00.000Z</td>\n      <td>[medium-of-exchange, stablecoin, asset-backed-...</td>\n      <td>NaN</td>\n      <td>2.536666e+10</td>\n      <td>2.536666e+10</td>\n      <td>False</td>\n      <td>NaN</td>\n      <td>6</td>\n      <td>NaN</td>\n      <td>NaN</td>\n      <td>None</td>\n      <td>2023-10-19T01:32:00.000Z</td>\n      <td>1.000009</td>\n      <td>2.606239e+09</td>\n      <td>-6.1975</td>\n      <td>-0.008599</td>\n      <td>-0.014394</td>\n      <td>0.007443</td>\n      <td>-0.006993</td>\n      <td>-0.005129</td>\n      <td>-0.005736</td>\n      <td>2.536689e+10</td>\n      <td>2.3413</td>\n      <td>2.536689e+10</td>\n      <td>None</td>\n      <td>2023-10-19T01:32:00.000Z</td>\n      <td>1027.0</td>\n      <td>Ethereum</td>\n      <td>ETH</td>\n      <td>ethereum</td>\n      <td>0xa0b86991c6218b36c1d19d4a2e9eb0ce3606eb48</td>\n      <td>2023-10-19 01:33:59.937082</td>\n    </tr>\n    <tr>\n      <th>6</th>\n      <td>5426</td>\n      <td>Solana</td>\n      <td>SOL</td>\n      <td>solana</td>\n      <td>537</td>\n      <td>2020-04-10T00:00:00.000Z</td>\n      <td>[pos, platform, solana-ecosystem, cms-holdings...</td>\n      <td>NaN</td>\n      <td>4.164750e+08</td>\n      <td>5.602064e+08</td>\n      <td>True</td>\n      <td>NaN</td>\n      <td>7</td>\n      <td>NaN</td>\n      <td>NaN</td>\n      <td>None</td>\n      <td>2023-10-19T01:32:00.000Z</td>\n      <td>23.496369</td>\n      <td>3.571250e+08</td>\n      <td>-29.7153</td>\n      <td>-0.051219</td>\n      <td>-1.897283</td>\n      <td>8.011396</td>\n      <td>18.583261</td>\n      <td>7.787797</td>\n      <td>-7.559508</td>\n      <td>9.785650e+09</td>\n      <td>0.9030</td>\n      <td>1.316282e+10</td>\n      <td>None</td>\n      <td>2023-10-19T01:32:00.000Z</td>\n      <td>NaN</td>\n      <td>NaN</td>\n      <td>NaN</td>\n      <td>NaN</td>\n      <td>NaN</td>\n      <td>2023-10-19 01:33:59.937082</td>\n    </tr>\n    <tr>\n      <th>7</th>\n      <td>2010</td>\n      <td>Cardano</td>\n      <td>ADA</td>\n      <td>cardano</td>\n      <td>947</td>\n      <td>2017-10-01T00:00:00.000Z</td>\n      <td>[dpos, pos, platform, research, smart-contract...</td>\n      <td>4.500000e+10</td>\n      <td>3.521860e+10</td>\n      <td>3.627473e+10</td>\n      <td>False</td>\n      <td>NaN</td>\n      <td>8</td>\n      <td>NaN</td>\n      <td>NaN</td>\n      <td>None</td>\n      <td>2023-10-19T01:32:00.000Z</td>\n      <td>0.244049</td>\n      <td>1.088455e+08</td>\n      <td>-15.7155</td>\n      <td>0.143997</td>\n      <td>-0.841270</td>\n      <td>-0.894207</td>\n      <td>-3.042801</td>\n      <td>-8.890494</td>\n      <td>-22.818456</td>\n      <td>8.595069e+09</td>\n      <td>0.7931</td>\n      <td>1.098221e+10</td>\n      <td>None</td>\n      <td>2023-10-19T01:32:00.000Z</td>\n      <td>NaN</td>\n      <td>NaN</td>\n      <td>NaN</td>\n      <td>NaN</td>\n      <td>NaN</td>\n      <td>2023-10-19 01:33:59.937082</td>\n    </tr>\n    <tr>\n      <th>8</th>\n      <td>74</td>\n      <td>Dogecoin</td>\n      <td>DOGE</td>\n      <td>dogecoin</td>\n      <td>809</td>\n      <td>2013-12-15T00:00:00.000Z</td>\n      <td>[mineable, pow, scrypt, medium-of-exchange, me...</td>\n      <td>NaN</td>\n      <td>1.414687e+11</td>\n      <td>1.414687e+11</td>\n      <td>True</td>\n      <td>NaN</td>\n      <td>9</td>\n      <td>NaN</td>\n      <td>NaN</td>\n      <td>None</td>\n      <td>2023-10-19T01:32:00.000Z</td>\n      <td>0.058561</td>\n      <td>1.112189e+08</td>\n      <td>-27.4021</td>\n      <td>-0.190262</td>\n      <td>-0.546508</td>\n      <td>0.629987</td>\n      <td>-5.643272</td>\n      <td>-8.360989</td>\n      <td>-17.351538</td>\n      <td>8.284606e+09</td>\n      <td>0.7646</td>\n      <td>8.284606e+09</td>\n      <td>None</td>\n      <td>2023-10-19T01:32:00.000Z</td>\n      <td>NaN</td>\n      <td>NaN</td>\n      <td>NaN</td>\n      <td>NaN</td>\n      <td>NaN</td>\n      <td>2023-10-19 01:33:59.937082</td>\n    </tr>\n    <tr>\n      <th>9</th>\n      <td>1958</td>\n      <td>TRON</td>\n      <td>TRX</td>\n      <td>tron</td>\n      <td>853</td>\n      <td>2017-09-13T00:00:00.000Z</td>\n      <td>[media, payments, tron-ecosystem, dwf-labs-por...</td>\n      <td>NaN</td>\n      <td>8.890812e+10</td>\n      <td>8.890813e+10</td>\n      <td>True</td>\n      <td>NaN</td>\n      <td>10</td>\n      <td>7.165966e+10</td>\n      <td>6.367841e+09</td>\n      <td>None</td>\n      <td>2023-10-19T01:32:00.000Z</td>\n      <td>0.088862</td>\n      <td>1.795004e+08</td>\n      <td>2.9035</td>\n      <td>-0.170587</td>\n      <td>0.126956</td>\n      <td>3.061925</td>\n      <td>5.738896</td>\n      <td>19.687037</td>\n      <td>9.887052</td>\n      <td>7.900579e+09</td>\n      <td>0.7291</td>\n      <td>7.900579e+09</td>\n      <td>None</td>\n      <td>2023-10-19T01:32:00.000Z</td>\n      <td>NaN</td>\n      <td>NaN</td>\n      <td>NaN</td>\n      <td>NaN</td>\n      <td>NaN</td>\n      <td>2023-10-19 01:33:59.937082</td>\n    </tr>\n  </tbody>\n</table>\n<p>70 rows × 37 columns</p>\n</div>"
          },
          "metadata": {}
        }
      ],
      "execution_count": 7,
      "metadata": {
        "jupyter": {
          "source_hidden": false,
          "outputs_hidden": false
        },
        "nteract": {
          "transient": {
            "deleting": false
          }
        },
        "gather": {
          "logged": 1697679384897
        }
      }
    },
    {
      "cell_type": "code",
      "source": [
        "#Transforming Data: specifying float format\n",
        "\n",
        "pd.set_option('display.float_format', lambda x: '%.5f' % x)"
      ],
      "outputs": [
        {
          "output_type": "display_data",
          "data": {
            "application/vnd.livy.statement-meta+json": {
              "spark_pool": "3a48cab6-14d7-4197-8a6c-030cdba9ac7c",
              "session_id": "2",
              "statement_id": 13,
              "state": "finished",
              "livy_statement_state": "available",
              "queued_time": "2023-10-19T01:36:36.9353621Z",
              "session_start_time": null,
              "execution_start_time": "2023-10-19T01:36:37.0476414Z",
              "execution_finish_time": "2023-10-19T01:36:37.4602479Z",
              "spark_jobs": {
                "numbers": {
                  "SUCCEEDED": 0,
                  "UNKNOWN": 0,
                  "FAILED": 0,
                  "RUNNING": 0
                },
                "jobs": [],
                "limit": 20,
                "rule": "ALL_DESC"
              },
              "parent_msg_id": "10285c24-fb1d-45ba-9f40-c2812be51f67"
            },
            "text/plain": "StatementMeta(3a48cab6-14d7-4197-8a6c-030cdba9ac7c, 2, 13, Finished, Available)"
          },
          "metadata": {}
        }
      ],
      "execution_count": 8,
      "metadata": {
        "jupyter": {
          "source_hidden": false,
          "outputs_hidden": false
        },
        "nteract": {
          "transient": {
            "deleting": false
          }
        },
        "gather": {
          "logged": 1697679397484
        }
      }
    },
    {
      "cell_type": "code",
      "source": [
        "#Aggregating Data\n",
        "\n",
        "df3 = df.groupby('name', sort=False)[['quote.USD.percent_change_1h','quote.USD.percent_change_24h','quote.USD.percent_change_7d','quote.USD.percent_change_30d','quote.USD.percent_change_60d','quote.USD.percent_change_90d']].mean()\n",
        "df3"
      ],
      "outputs": [
        {
          "output_type": "display_data",
          "data": {
            "application/vnd.livy.statement-meta+json": {
              "spark_pool": "3a48cab6-14d7-4197-8a6c-030cdba9ac7c",
              "session_id": "2",
              "statement_id": 14,
              "state": "finished",
              "livy_statement_state": "available",
              "queued_time": "2023-10-19T01:36:42.8623391Z",
              "session_start_time": null,
              "execution_start_time": "2023-10-19T01:36:42.9557625Z",
              "execution_finish_time": "2023-10-19T01:36:43.3788228Z",
              "spark_jobs": {
                "numbers": {
                  "SUCCEEDED": 0,
                  "UNKNOWN": 0,
                  "FAILED": 0,
                  "RUNNING": 0
                },
                "jobs": [],
                "limit": 20,
                "rule": "ALL_DESC"
              },
              "parent_msg_id": "9afefc51-7505-40d9-81e7-9b209a148f5c"
            },
            "text/plain": "StatementMeta(3a48cab6-14d7-4197-8a6c-030cdba9ac7c, 2, 14, Finished, Available)"
          },
          "metadata": {}
        },
        {
          "output_type": "execute_result",
          "execution_count": 27,
          "data": {
            "text/plain": "             quote.USD.percent_change_1h  quote.USD.percent_change_24h  \\\nname                                                                     \nBitcoin                          0.10577                       0.09780   \nEthereum                        -0.01237                      -0.08838   \nTether USDt                     -0.00727                      -0.02290   \nBNB                              0.08582                      -0.30471   \nXRP                             -0.05243                      -0.26961   \nUSDC                            -0.00731                      -0.00715   \nSolana                           0.02018                      -2.01286   \nCardano                          0.17014                      -0.82778   \nDogecoin                        -0.14276                      -0.48643   \nTRON                            -0.22331                       0.10141   \n\n             quote.USD.percent_change_7d  quote.USD.percent_change_30d  \\\nname                                                                     \nBitcoin                          6.07723                       6.18411   \nEthereum                         0.38356                      -4.15334   \nTether USDt                      0.03374                      -0.01526   \nBNB                              2.65601                      -2.57768   \nXRP                              0.63335                      -2.91660   \nUSDC                            -0.00022                      -0.01629   \nSolana                           8.03137                      18.49576   \nCardano                         -0.86606                      -2.96676   \nDogecoin                         0.69992                      -5.60300   \nTRON                             3.06781                       5.71889   \n\n             quote.USD.percent_change_60d  quote.USD.percent_change_90d  \nname                                                                     \nBitcoin                           8.81134                      -4.97920  \nEthereum                         -6.08693                     -17.41488  \nTether USDt                       0.02459                       0.01998  \nBNB                              -2.84216                     -13.55600  \nXRP                              -5.94073                     -38.57159  \nUSDC                             -0.01097                       0.00382  \nSolana                            7.80061                      -7.55168  \nCardano                          -8.91002                     -22.81708  \nDogecoin                         -8.29807                     -17.31603  \nTRON                             19.64993                       9.88268  ",
            "text/html": "<div>\n<style scoped>\n    .dataframe tbody tr th:only-of-type {\n        vertical-align: middle;\n    }\n\n    .dataframe tbody tr th {\n        vertical-align: top;\n    }\n\n    .dataframe thead th {\n        text-align: right;\n    }\n</style>\n<table border=\"1\" class=\"dataframe\">\n  <thead>\n    <tr style=\"text-align: right;\">\n      <th></th>\n      <th>quote.USD.percent_change_1h</th>\n      <th>quote.USD.percent_change_24h</th>\n      <th>quote.USD.percent_change_7d</th>\n      <th>quote.USD.percent_change_30d</th>\n      <th>quote.USD.percent_change_60d</th>\n      <th>quote.USD.percent_change_90d</th>\n    </tr>\n    <tr>\n      <th>name</th>\n      <th></th>\n      <th></th>\n      <th></th>\n      <th></th>\n      <th></th>\n      <th></th>\n    </tr>\n  </thead>\n  <tbody>\n    <tr>\n      <th>Bitcoin</th>\n      <td>0.10577</td>\n      <td>0.09780</td>\n      <td>6.07723</td>\n      <td>6.18411</td>\n      <td>8.81134</td>\n      <td>-4.97920</td>\n    </tr>\n    <tr>\n      <th>Ethereum</th>\n      <td>-0.01237</td>\n      <td>-0.08838</td>\n      <td>0.38356</td>\n      <td>-4.15334</td>\n      <td>-6.08693</td>\n      <td>-17.41488</td>\n    </tr>\n    <tr>\n      <th>Tether USDt</th>\n      <td>-0.00727</td>\n      <td>-0.02290</td>\n      <td>0.03374</td>\n      <td>-0.01526</td>\n      <td>0.02459</td>\n      <td>0.01998</td>\n    </tr>\n    <tr>\n      <th>BNB</th>\n      <td>0.08582</td>\n      <td>-0.30471</td>\n      <td>2.65601</td>\n      <td>-2.57768</td>\n      <td>-2.84216</td>\n      <td>-13.55600</td>\n    </tr>\n    <tr>\n      <th>XRP</th>\n      <td>-0.05243</td>\n      <td>-0.26961</td>\n      <td>0.63335</td>\n      <td>-2.91660</td>\n      <td>-5.94073</td>\n      <td>-38.57159</td>\n    </tr>\n    <tr>\n      <th>USDC</th>\n      <td>-0.00731</td>\n      <td>-0.00715</td>\n      <td>-0.00022</td>\n      <td>-0.01629</td>\n      <td>-0.01097</td>\n      <td>0.00382</td>\n    </tr>\n    <tr>\n      <th>Solana</th>\n      <td>0.02018</td>\n      <td>-2.01286</td>\n      <td>8.03137</td>\n      <td>18.49576</td>\n      <td>7.80061</td>\n      <td>-7.55168</td>\n    </tr>\n    <tr>\n      <th>Cardano</th>\n      <td>0.17014</td>\n      <td>-0.82778</td>\n      <td>-0.86606</td>\n      <td>-2.96676</td>\n      <td>-8.91002</td>\n      <td>-22.81708</td>\n    </tr>\n    <tr>\n      <th>Dogecoin</th>\n      <td>-0.14276</td>\n      <td>-0.48643</td>\n      <td>0.69992</td>\n      <td>-5.60300</td>\n      <td>-8.29807</td>\n      <td>-17.31603</td>\n    </tr>\n    <tr>\n      <th>TRON</th>\n      <td>-0.22331</td>\n      <td>0.10141</td>\n      <td>3.06781</td>\n      <td>5.71889</td>\n      <td>19.64993</td>\n      <td>9.88268</td>\n    </tr>\n  </tbody>\n</table>\n</div>"
          },
          "metadata": {}
        }
      ],
      "execution_count": 9,
      "metadata": {
        "jupyter": {
          "source_hidden": false,
          "outputs_hidden": false
        },
        "nteract": {
          "transient": {
            "deleting": false
          }
        },
        "gather": {
          "logged": 1697679403589
        }
      }
    },
    {
      "cell_type": "code",
      "source": [
        "#Transforming Data: columns to rows\n",
        "\n",
        "df4 = df3.stack()\n",
        "df4"
      ],
      "outputs": [
        {
          "output_type": "display_data",
          "data": {
            "application/vnd.livy.statement-meta+json": {
              "spark_pool": "3a48cab6-14d7-4197-8a6c-030cdba9ac7c",
              "session_id": "2",
              "statement_id": 15,
              "state": "finished",
              "livy_statement_state": "available",
              "queued_time": "2023-10-19T01:36:51.6000233Z",
              "session_start_time": null,
              "execution_start_time": "2023-10-19T01:36:51.7053596Z",
              "execution_finish_time": "2023-10-19T01:36:52.1222298Z",
              "spark_jobs": {
                "numbers": {
                  "SUCCEEDED": 0,
                  "UNKNOWN": 0,
                  "FAILED": 0,
                  "RUNNING": 0
                },
                "jobs": [],
                "limit": 20,
                "rule": "ALL_DESC"
              },
              "parent_msg_id": "3cf67fd2-756d-47d6-9c83-0d173414bbe4"
            },
            "text/plain": "StatementMeta(3a48cab6-14d7-4197-8a6c-030cdba9ac7c, 2, 15, Finished, Available)"
          },
          "metadata": {}
        },
        {
          "output_type": "execute_result",
          "execution_count": 29,
          "data": {
            "text/plain": "name                                     \nBitcoin      quote.USD.percent_change_1h      0.10577\n             quote.USD.percent_change_24h     0.09780\n             quote.USD.percent_change_7d      6.07723\n             quote.USD.percent_change_30d     6.18411\n             quote.USD.percent_change_60d     8.81134\n             quote.USD.percent_change_90d    -4.97920\nEthereum     quote.USD.percent_change_1h     -0.01237\n             quote.USD.percent_change_24h    -0.08838\n             quote.USD.percent_change_7d      0.38356\n             quote.USD.percent_change_30d    -4.15334\n             quote.USD.percent_change_60d    -6.08693\n             quote.USD.percent_change_90d   -17.41488\nTether USDt  quote.USD.percent_change_1h     -0.00727\n             quote.USD.percent_change_24h    -0.02290\n             quote.USD.percent_change_7d      0.03374\n             quote.USD.percent_change_30d    -0.01526\n             quote.USD.percent_change_60d     0.02459\n             quote.USD.percent_change_90d     0.01998\nBNB          quote.USD.percent_change_1h      0.08582\n             quote.USD.percent_change_24h    -0.30471\n             quote.USD.percent_change_7d      2.65601\n             quote.USD.percent_change_30d    -2.57768\n             quote.USD.percent_change_60d    -2.84216\n             quote.USD.percent_change_90d   -13.55600\nXRP          quote.USD.percent_change_1h     -0.05243\n             quote.USD.percent_change_24h    -0.26961\n             quote.USD.percent_change_7d      0.63335\n             quote.USD.percent_change_30d    -2.91660\n             quote.USD.percent_change_60d    -5.94073\n             quote.USD.percent_change_90d   -38.57159\nUSDC         quote.USD.percent_change_1h     -0.00731\n             quote.USD.percent_change_24h    -0.00715\n             quote.USD.percent_change_7d     -0.00022\n             quote.USD.percent_change_30d    -0.01629\n             quote.USD.percent_change_60d    -0.01097\n             quote.USD.percent_change_90d     0.00382\nSolana       quote.USD.percent_change_1h      0.02018\n             quote.USD.percent_change_24h    -2.01286\n             quote.USD.percent_change_7d      8.03137\n             quote.USD.percent_change_30d    18.49576\n             quote.USD.percent_change_60d     7.80061\n             quote.USD.percent_change_90d    -7.55168\nCardano      quote.USD.percent_change_1h      0.17014\n             quote.USD.percent_change_24h    -0.82778\n             quote.USD.percent_change_7d     -0.86606\n             quote.USD.percent_change_30d    -2.96676\n             quote.USD.percent_change_60d    -8.91002\n             quote.USD.percent_change_90d   -22.81708\nDogecoin     quote.USD.percent_change_1h     -0.14276\n             quote.USD.percent_change_24h    -0.48643\n             quote.USD.percent_change_7d      0.69992\n             quote.USD.percent_change_30d    -5.60300\n             quote.USD.percent_change_60d    -8.29807\n             quote.USD.percent_change_90d   -17.31603\nTRON         quote.USD.percent_change_1h     -0.22331\n             quote.USD.percent_change_24h     0.10141\n             quote.USD.percent_change_7d      3.06781\n             quote.USD.percent_change_30d     5.71889\n             quote.USD.percent_change_60d    19.64993\n             quote.USD.percent_change_90d     9.88268\ndtype: float64"
          },
          "metadata": {}
        }
      ],
      "execution_count": 10,
      "metadata": {
        "jupyter": {
          "source_hidden": false,
          "outputs_hidden": false
        },
        "nteract": {
          "transient": {
            "deleting": false
          }
        },
        "gather": {
          "logged": 1697679412201
        }
      }
    },
    {
      "cell_type": "code",
      "source": [
        "#Transforming Data: series to dataframe\n",
        "\n",
        "df5 = df4.to_frame(name='values')\n",
        "df5"
      ],
      "outputs": [
        {
          "output_type": "display_data",
          "data": {
            "application/vnd.livy.statement-meta+json": {
              "spark_pool": "3a48cab6-14d7-4197-8a6c-030cdba9ac7c",
              "session_id": "2",
              "statement_id": 16,
              "state": "finished",
              "livy_statement_state": "available",
              "queued_time": "2023-10-19T01:36:54.2012767Z",
              "session_start_time": null,
              "execution_start_time": "2023-10-19T01:36:54.299605Z",
              "execution_finish_time": "2023-10-19T01:36:54.7415711Z",
              "spark_jobs": {
                "numbers": {
                  "SUCCEEDED": 0,
                  "UNKNOWN": 0,
                  "FAILED": 0,
                  "RUNNING": 0
                },
                "jobs": [],
                "limit": 20,
                "rule": "ALL_DESC"
              },
              "parent_msg_id": "b1e2661e-98ce-421f-998f-a61911a9bf75"
            },
            "text/plain": "StatementMeta(3a48cab6-14d7-4197-8a6c-030cdba9ac7c, 2, 16, Finished, Available)"
          },
          "metadata": {}
        },
        {
          "output_type": "execute_result",
          "execution_count": 31,
          "data": {
            "text/plain": "                                            values\nname                                              \nBitcoin     quote.USD.percent_change_1h    0.10577\n            quote.USD.percent_change_24h   0.09780\n            quote.USD.percent_change_7d    6.07723\n            quote.USD.percent_change_30d   6.18411\n            quote.USD.percent_change_60d   8.81134\n            quote.USD.percent_change_90d  -4.97920\nEthereum    quote.USD.percent_change_1h   -0.01237\n            quote.USD.percent_change_24h  -0.08838\n            quote.USD.percent_change_7d    0.38356\n            quote.USD.percent_change_30d  -4.15334\n            quote.USD.percent_change_60d  -6.08693\n            quote.USD.percent_change_90d -17.41488\nTether USDt quote.USD.percent_change_1h   -0.00727\n            quote.USD.percent_change_24h  -0.02290\n            quote.USD.percent_change_7d    0.03374\n            quote.USD.percent_change_30d  -0.01526\n            quote.USD.percent_change_60d   0.02459\n            quote.USD.percent_change_90d   0.01998\nBNB         quote.USD.percent_change_1h    0.08582\n            quote.USD.percent_change_24h  -0.30471\n            quote.USD.percent_change_7d    2.65601\n            quote.USD.percent_change_30d  -2.57768\n            quote.USD.percent_change_60d  -2.84216\n            quote.USD.percent_change_90d -13.55600\nXRP         quote.USD.percent_change_1h   -0.05243\n            quote.USD.percent_change_24h  -0.26961\n            quote.USD.percent_change_7d    0.63335\n            quote.USD.percent_change_30d  -2.91660\n            quote.USD.percent_change_60d  -5.94073\n            quote.USD.percent_change_90d -38.57159\nUSDC        quote.USD.percent_change_1h   -0.00731\n            quote.USD.percent_change_24h  -0.00715\n            quote.USD.percent_change_7d   -0.00022\n            quote.USD.percent_change_30d  -0.01629\n            quote.USD.percent_change_60d  -0.01097\n            quote.USD.percent_change_90d   0.00382\nSolana      quote.USD.percent_change_1h    0.02018\n            quote.USD.percent_change_24h  -2.01286\n            quote.USD.percent_change_7d    8.03137\n            quote.USD.percent_change_30d  18.49576\n            quote.USD.percent_change_60d   7.80061\n            quote.USD.percent_change_90d  -7.55168\nCardano     quote.USD.percent_change_1h    0.17014\n            quote.USD.percent_change_24h  -0.82778\n            quote.USD.percent_change_7d   -0.86606\n            quote.USD.percent_change_30d  -2.96676\n            quote.USD.percent_change_60d  -8.91002\n            quote.USD.percent_change_90d -22.81708\nDogecoin    quote.USD.percent_change_1h   -0.14276\n            quote.USD.percent_change_24h  -0.48643\n            quote.USD.percent_change_7d    0.69992\n            quote.USD.percent_change_30d  -5.60300\n            quote.USD.percent_change_60d  -8.29807\n            quote.USD.percent_change_90d -17.31603\nTRON        quote.USD.percent_change_1h   -0.22331\n            quote.USD.percent_change_24h   0.10141\n            quote.USD.percent_change_7d    3.06781\n            quote.USD.percent_change_30d   5.71889\n            quote.USD.percent_change_60d  19.64993\n            quote.USD.percent_change_90d   9.88268",
            "text/html": "<div>\n<style scoped>\n    .dataframe tbody tr th:only-of-type {\n        vertical-align: middle;\n    }\n\n    .dataframe tbody tr th {\n        vertical-align: top;\n    }\n\n    .dataframe thead th {\n        text-align: right;\n    }\n</style>\n<table border=\"1\" class=\"dataframe\">\n  <thead>\n    <tr style=\"text-align: right;\">\n      <th></th>\n      <th></th>\n      <th>values</th>\n    </tr>\n    <tr>\n      <th>name</th>\n      <th></th>\n      <th></th>\n    </tr>\n  </thead>\n  <tbody>\n    <tr>\n      <th rowspan=\"6\" valign=\"top\">Bitcoin</th>\n      <th>quote.USD.percent_change_1h</th>\n      <td>0.10577</td>\n    </tr>\n    <tr>\n      <th>quote.USD.percent_change_24h</th>\n      <td>0.09780</td>\n    </tr>\n    <tr>\n      <th>quote.USD.percent_change_7d</th>\n      <td>6.07723</td>\n    </tr>\n    <tr>\n      <th>quote.USD.percent_change_30d</th>\n      <td>6.18411</td>\n    </tr>\n    <tr>\n      <th>quote.USD.percent_change_60d</th>\n      <td>8.81134</td>\n    </tr>\n    <tr>\n      <th>quote.USD.percent_change_90d</th>\n      <td>-4.97920</td>\n    </tr>\n    <tr>\n      <th rowspan=\"6\" valign=\"top\">Ethereum</th>\n      <th>quote.USD.percent_change_1h</th>\n      <td>-0.01237</td>\n    </tr>\n    <tr>\n      <th>quote.USD.percent_change_24h</th>\n      <td>-0.08838</td>\n    </tr>\n    <tr>\n      <th>quote.USD.percent_change_7d</th>\n      <td>0.38356</td>\n    </tr>\n    <tr>\n      <th>quote.USD.percent_change_30d</th>\n      <td>-4.15334</td>\n    </tr>\n    <tr>\n      <th>quote.USD.percent_change_60d</th>\n      <td>-6.08693</td>\n    </tr>\n    <tr>\n      <th>quote.USD.percent_change_90d</th>\n      <td>-17.41488</td>\n    </tr>\n    <tr>\n      <th rowspan=\"6\" valign=\"top\">Tether USDt</th>\n      <th>quote.USD.percent_change_1h</th>\n      <td>-0.00727</td>\n    </tr>\n    <tr>\n      <th>quote.USD.percent_change_24h</th>\n      <td>-0.02290</td>\n    </tr>\n    <tr>\n      <th>quote.USD.percent_change_7d</th>\n      <td>0.03374</td>\n    </tr>\n    <tr>\n      <th>quote.USD.percent_change_30d</th>\n      <td>-0.01526</td>\n    </tr>\n    <tr>\n      <th>quote.USD.percent_change_60d</th>\n      <td>0.02459</td>\n    </tr>\n    <tr>\n      <th>quote.USD.percent_change_90d</th>\n      <td>0.01998</td>\n    </tr>\n    <tr>\n      <th rowspan=\"6\" valign=\"top\">BNB</th>\n      <th>quote.USD.percent_change_1h</th>\n      <td>0.08582</td>\n    </tr>\n    <tr>\n      <th>quote.USD.percent_change_24h</th>\n      <td>-0.30471</td>\n    </tr>\n    <tr>\n      <th>quote.USD.percent_change_7d</th>\n      <td>2.65601</td>\n    </tr>\n    <tr>\n      <th>quote.USD.percent_change_30d</th>\n      <td>-2.57768</td>\n    </tr>\n    <tr>\n      <th>quote.USD.percent_change_60d</th>\n      <td>-2.84216</td>\n    </tr>\n    <tr>\n      <th>quote.USD.percent_change_90d</th>\n      <td>-13.55600</td>\n    </tr>\n    <tr>\n      <th rowspan=\"6\" valign=\"top\">XRP</th>\n      <th>quote.USD.percent_change_1h</th>\n      <td>-0.05243</td>\n    </tr>\n    <tr>\n      <th>quote.USD.percent_change_24h</th>\n      <td>-0.26961</td>\n    </tr>\n    <tr>\n      <th>quote.USD.percent_change_7d</th>\n      <td>0.63335</td>\n    </tr>\n    <tr>\n      <th>quote.USD.percent_change_30d</th>\n      <td>-2.91660</td>\n    </tr>\n    <tr>\n      <th>quote.USD.percent_change_60d</th>\n      <td>-5.94073</td>\n    </tr>\n    <tr>\n      <th>quote.USD.percent_change_90d</th>\n      <td>-38.57159</td>\n    </tr>\n    <tr>\n      <th rowspan=\"6\" valign=\"top\">USDC</th>\n      <th>quote.USD.percent_change_1h</th>\n      <td>-0.00731</td>\n    </tr>\n    <tr>\n      <th>quote.USD.percent_change_24h</th>\n      <td>-0.00715</td>\n    </tr>\n    <tr>\n      <th>quote.USD.percent_change_7d</th>\n      <td>-0.00022</td>\n    </tr>\n    <tr>\n      <th>quote.USD.percent_change_30d</th>\n      <td>-0.01629</td>\n    </tr>\n    <tr>\n      <th>quote.USD.percent_change_60d</th>\n      <td>-0.01097</td>\n    </tr>\n    <tr>\n      <th>quote.USD.percent_change_90d</th>\n      <td>0.00382</td>\n    </tr>\n    <tr>\n      <th rowspan=\"6\" valign=\"top\">Solana</th>\n      <th>quote.USD.percent_change_1h</th>\n      <td>0.02018</td>\n    </tr>\n    <tr>\n      <th>quote.USD.percent_change_24h</th>\n      <td>-2.01286</td>\n    </tr>\n    <tr>\n      <th>quote.USD.percent_change_7d</th>\n      <td>8.03137</td>\n    </tr>\n    <tr>\n      <th>quote.USD.percent_change_30d</th>\n      <td>18.49576</td>\n    </tr>\n    <tr>\n      <th>quote.USD.percent_change_60d</th>\n      <td>7.80061</td>\n    </tr>\n    <tr>\n      <th>quote.USD.percent_change_90d</th>\n      <td>-7.55168</td>\n    </tr>\n    <tr>\n      <th rowspan=\"6\" valign=\"top\">Cardano</th>\n      <th>quote.USD.percent_change_1h</th>\n      <td>0.17014</td>\n    </tr>\n    <tr>\n      <th>quote.USD.percent_change_24h</th>\n      <td>-0.82778</td>\n    </tr>\n    <tr>\n      <th>quote.USD.percent_change_7d</th>\n      <td>-0.86606</td>\n    </tr>\n    <tr>\n      <th>quote.USD.percent_change_30d</th>\n      <td>-2.96676</td>\n    </tr>\n    <tr>\n      <th>quote.USD.percent_change_60d</th>\n      <td>-8.91002</td>\n    </tr>\n    <tr>\n      <th>quote.USD.percent_change_90d</th>\n      <td>-22.81708</td>\n    </tr>\n    <tr>\n      <th rowspan=\"6\" valign=\"top\">Dogecoin</th>\n      <th>quote.USD.percent_change_1h</th>\n      <td>-0.14276</td>\n    </tr>\n    <tr>\n      <th>quote.USD.percent_change_24h</th>\n      <td>-0.48643</td>\n    </tr>\n    <tr>\n      <th>quote.USD.percent_change_7d</th>\n      <td>0.69992</td>\n    </tr>\n    <tr>\n      <th>quote.USD.percent_change_30d</th>\n      <td>-5.60300</td>\n    </tr>\n    <tr>\n      <th>quote.USD.percent_change_60d</th>\n      <td>-8.29807</td>\n    </tr>\n    <tr>\n      <th>quote.USD.percent_change_90d</th>\n      <td>-17.31603</td>\n    </tr>\n    <tr>\n      <th rowspan=\"6\" valign=\"top\">TRON</th>\n      <th>quote.USD.percent_change_1h</th>\n      <td>-0.22331</td>\n    </tr>\n    <tr>\n      <th>quote.USD.percent_change_24h</th>\n      <td>0.10141</td>\n    </tr>\n    <tr>\n      <th>quote.USD.percent_change_7d</th>\n      <td>3.06781</td>\n    </tr>\n    <tr>\n      <th>quote.USD.percent_change_30d</th>\n      <td>5.71889</td>\n    </tr>\n    <tr>\n      <th>quote.USD.percent_change_60d</th>\n      <td>19.64993</td>\n    </tr>\n    <tr>\n      <th>quote.USD.percent_change_90d</th>\n      <td>9.88268</td>\n    </tr>\n  </tbody>\n</table>\n</div>"
          },
          "metadata": {}
        }
      ],
      "execution_count": 11,
      "metadata": {
        "jupyter": {
          "source_hidden": false,
          "outputs_hidden": false
        },
        "nteract": {
          "transient": {
            "deleting": false
          }
        },
        "gather": {
          "logged": 1697679414916
        }
      }
    },
    {
      "cell_type": "code",
      "source": [
        "#Transforming Data: counting rows\n",
        "df5.count()"
      ],
      "outputs": [
        {
          "output_type": "display_data",
          "data": {
            "application/vnd.livy.statement-meta+json": {
              "spark_pool": "3a48cab6-14d7-4197-8a6c-030cdba9ac7c",
              "session_id": "2",
              "statement_id": 17,
              "state": "finished",
              "livy_statement_state": "available",
              "queued_time": "2023-10-19T01:36:57.4639953Z",
              "session_start_time": null,
              "execution_start_time": "2023-10-19T01:36:57.5526823Z",
              "execution_finish_time": "2023-10-19T01:36:57.9890865Z",
              "spark_jobs": {
                "numbers": {
                  "SUCCEEDED": 0,
                  "UNKNOWN": 0,
                  "FAILED": 0,
                  "RUNNING": 0
                },
                "jobs": [],
                "limit": 20,
                "rule": "ALL_DESC"
              },
              "parent_msg_id": "0627b477-0623-4390-b49d-58784c2a6961"
            },
            "text/plain": "StatementMeta(3a48cab6-14d7-4197-8a6c-030cdba9ac7c, 2, 17, Finished, Available)"
          },
          "metadata": {}
        },
        {
          "output_type": "execute_result",
          "execution_count": 33,
          "data": {
            "text/plain": "values    60\ndtype: int64"
          },
          "metadata": {}
        }
      ],
      "execution_count": 12,
      "metadata": {
        "jupyter": {
          "source_hidden": false,
          "outputs_hidden": false
        },
        "nteract": {
          "transient": {
            "deleting": false
          }
        },
        "gather": {
          "logged": 1697679418021
        }
      }
    },
    {
      "cell_type": "code",
      "source": [
        "#Transforming Data: Assigning index\n",
        "index = pd.Index(range(60))\n",
        "df6 = df5.set_index(index)\n",
        "df6"
      ],
      "outputs": [
        {
          "output_type": "display_data",
          "data": {
            "application/vnd.livy.statement-meta+json": {
              "spark_pool": "3a48cab6-14d7-4197-8a6c-030cdba9ac7c",
              "session_id": "2",
              "statement_id": 18,
              "state": "finished",
              "livy_statement_state": "available",
              "queued_time": "2023-10-19T01:37:04.3058678Z",
              "session_start_time": null,
              "execution_start_time": "2023-10-19T01:37:04.4018371Z",
              "execution_finish_time": "2023-10-19T01:37:04.8236055Z",
              "spark_jobs": {
                "numbers": {
                  "SUCCEEDED": 0,
                  "UNKNOWN": 0,
                  "FAILED": 0,
                  "RUNNING": 0
                },
                "jobs": [],
                "limit": 20,
                "rule": "ALL_DESC"
              },
              "parent_msg_id": "453405e8-0b82-4cf8-a1b8-aa06f95fce62"
            },
            "text/plain": "StatementMeta(3a48cab6-14d7-4197-8a6c-030cdba9ac7c, 2, 18, Finished, Available)"
          },
          "metadata": {}
        },
        {
          "output_type": "execute_result",
          "execution_count": 35,
          "data": {
            "text/plain": "      values\n0    0.10577\n1    0.09780\n2    6.07723\n3    6.18411\n4    8.81134\n5   -4.97920\n6   -0.01237\n7   -0.08838\n8    0.38356\n9   -4.15334\n10  -6.08693\n11 -17.41488\n12  -0.00727\n13  -0.02290\n14   0.03374\n15  -0.01526\n16   0.02459\n17   0.01998\n18   0.08582\n19  -0.30471\n20   2.65601\n21  -2.57768\n22  -2.84216\n23 -13.55600\n24  -0.05243\n25  -0.26961\n26   0.63335\n27  -2.91660\n28  -5.94073\n29 -38.57159\n30  -0.00731\n31  -0.00715\n32  -0.00022\n33  -0.01629\n34  -0.01097\n35   0.00382\n36   0.02018\n37  -2.01286\n38   8.03137\n39  18.49576\n40   7.80061\n41  -7.55168\n42   0.17014\n43  -0.82778\n44  -0.86606\n45  -2.96676\n46  -8.91002\n47 -22.81708\n48  -0.14276\n49  -0.48643\n50   0.69992\n51  -5.60300\n52  -8.29807\n53 -17.31603\n54  -0.22331\n55   0.10141\n56   3.06781\n57   5.71889\n58  19.64993\n59   9.88268",
            "text/html": "<div>\n<style scoped>\n    .dataframe tbody tr th:only-of-type {\n        vertical-align: middle;\n    }\n\n    .dataframe tbody tr th {\n        vertical-align: top;\n    }\n\n    .dataframe thead th {\n        text-align: right;\n    }\n</style>\n<table border=\"1\" class=\"dataframe\">\n  <thead>\n    <tr style=\"text-align: right;\">\n      <th></th>\n      <th>values</th>\n    </tr>\n  </thead>\n  <tbody>\n    <tr>\n      <th>0</th>\n      <td>0.10577</td>\n    </tr>\n    <tr>\n      <th>1</th>\n      <td>0.09780</td>\n    </tr>\n    <tr>\n      <th>2</th>\n      <td>6.07723</td>\n    </tr>\n    <tr>\n      <th>3</th>\n      <td>6.18411</td>\n    </tr>\n    <tr>\n      <th>4</th>\n      <td>8.81134</td>\n    </tr>\n    <tr>\n      <th>5</th>\n      <td>-4.97920</td>\n    </tr>\n    <tr>\n      <th>6</th>\n      <td>-0.01237</td>\n    </tr>\n    <tr>\n      <th>7</th>\n      <td>-0.08838</td>\n    </tr>\n    <tr>\n      <th>8</th>\n      <td>0.38356</td>\n    </tr>\n    <tr>\n      <th>9</th>\n      <td>-4.15334</td>\n    </tr>\n    <tr>\n      <th>10</th>\n      <td>-6.08693</td>\n    </tr>\n    <tr>\n      <th>11</th>\n      <td>-17.41488</td>\n    </tr>\n    <tr>\n      <th>12</th>\n      <td>-0.00727</td>\n    </tr>\n    <tr>\n      <th>13</th>\n      <td>-0.02290</td>\n    </tr>\n    <tr>\n      <th>14</th>\n      <td>0.03374</td>\n    </tr>\n    <tr>\n      <th>15</th>\n      <td>-0.01526</td>\n    </tr>\n    <tr>\n      <th>16</th>\n      <td>0.02459</td>\n    </tr>\n    <tr>\n      <th>17</th>\n      <td>0.01998</td>\n    </tr>\n    <tr>\n      <th>18</th>\n      <td>0.08582</td>\n    </tr>\n    <tr>\n      <th>19</th>\n      <td>-0.30471</td>\n    </tr>\n    <tr>\n      <th>20</th>\n      <td>2.65601</td>\n    </tr>\n    <tr>\n      <th>21</th>\n      <td>-2.57768</td>\n    </tr>\n    <tr>\n      <th>22</th>\n      <td>-2.84216</td>\n    </tr>\n    <tr>\n      <th>23</th>\n      <td>-13.55600</td>\n    </tr>\n    <tr>\n      <th>24</th>\n      <td>-0.05243</td>\n    </tr>\n    <tr>\n      <th>25</th>\n      <td>-0.26961</td>\n    </tr>\n    <tr>\n      <th>26</th>\n      <td>0.63335</td>\n    </tr>\n    <tr>\n      <th>27</th>\n      <td>-2.91660</td>\n    </tr>\n    <tr>\n      <th>28</th>\n      <td>-5.94073</td>\n    </tr>\n    <tr>\n      <th>29</th>\n      <td>-38.57159</td>\n    </tr>\n    <tr>\n      <th>30</th>\n      <td>-0.00731</td>\n    </tr>\n    <tr>\n      <th>31</th>\n      <td>-0.00715</td>\n    </tr>\n    <tr>\n      <th>32</th>\n      <td>-0.00022</td>\n    </tr>\n    <tr>\n      <th>33</th>\n      <td>-0.01629</td>\n    </tr>\n    <tr>\n      <th>34</th>\n      <td>-0.01097</td>\n    </tr>\n    <tr>\n      <th>35</th>\n      <td>0.00382</td>\n    </tr>\n    <tr>\n      <th>36</th>\n      <td>0.02018</td>\n    </tr>\n    <tr>\n      <th>37</th>\n      <td>-2.01286</td>\n    </tr>\n    <tr>\n      <th>38</th>\n      <td>8.03137</td>\n    </tr>\n    <tr>\n      <th>39</th>\n      <td>18.49576</td>\n    </tr>\n    <tr>\n      <th>40</th>\n      <td>7.80061</td>\n    </tr>\n    <tr>\n      <th>41</th>\n      <td>-7.55168</td>\n    </tr>\n    <tr>\n      <th>42</th>\n      <td>0.17014</td>\n    </tr>\n    <tr>\n      <th>43</th>\n      <td>-0.82778</td>\n    </tr>\n    <tr>\n      <th>44</th>\n      <td>-0.86606</td>\n    </tr>\n    <tr>\n      <th>45</th>\n      <td>-2.96676</td>\n    </tr>\n    <tr>\n      <th>46</th>\n      <td>-8.91002</td>\n    </tr>\n    <tr>\n      <th>47</th>\n      <td>-22.81708</td>\n    </tr>\n    <tr>\n      <th>48</th>\n      <td>-0.14276</td>\n    </tr>\n    <tr>\n      <th>49</th>\n      <td>-0.48643</td>\n    </tr>\n    <tr>\n      <th>50</th>\n      <td>0.69992</td>\n    </tr>\n    <tr>\n      <th>51</th>\n      <td>-5.60300</td>\n    </tr>\n    <tr>\n      <th>52</th>\n      <td>-8.29807</td>\n    </tr>\n    <tr>\n      <th>53</th>\n      <td>-17.31603</td>\n    </tr>\n    <tr>\n      <th>54</th>\n      <td>-0.22331</td>\n    </tr>\n    <tr>\n      <th>55</th>\n      <td>0.10141</td>\n    </tr>\n    <tr>\n      <th>56</th>\n      <td>3.06781</td>\n    </tr>\n    <tr>\n      <th>57</th>\n      <td>5.71889</td>\n    </tr>\n    <tr>\n      <th>58</th>\n      <td>19.64993</td>\n    </tr>\n    <tr>\n      <th>59</th>\n      <td>9.88268</td>\n    </tr>\n  </tbody>\n</table>\n</div>"
          },
          "metadata": {}
        }
      ],
      "execution_count": 13,
      "metadata": {
        "jupyter": {
          "source_hidden": false,
          "outputs_hidden": false
        },
        "nteract": {
          "transient": {
            "deleting": false
          }
        },
        "gather": {
          "logged": 1697679425060
        }
      }
    },
    {
      "cell_type": "code",
      "source": [
        "#Transforming Data: resetting index\n",
        "\n",
        "df6 = df5.reset_index()\n",
        "df6"
      ],
      "outputs": [
        {
          "output_type": "display_data",
          "data": {
            "application/vnd.livy.statement-meta+json": {
              "spark_pool": "3a48cab6-14d7-4197-8a6c-030cdba9ac7c",
              "session_id": "2",
              "statement_id": 19,
              "state": "finished",
              "livy_statement_state": "available",
              "queued_time": "2023-10-19T01:37:07.4776742Z",
              "session_start_time": null,
              "execution_start_time": "2023-10-19T01:37:07.566614Z",
              "execution_finish_time": "2023-10-19T01:37:08.0195622Z",
              "spark_jobs": {
                "numbers": {
                  "SUCCEEDED": 0,
                  "UNKNOWN": 0,
                  "FAILED": 0,
                  "RUNNING": 0
                },
                "jobs": [],
                "limit": 20,
                "rule": "ALL_DESC"
              },
              "parent_msg_id": "45669a36-cbca-4677-916f-980e5b6458f5"
            },
            "text/plain": "StatementMeta(3a48cab6-14d7-4197-8a6c-030cdba9ac7c, 2, 19, Finished, Available)"
          },
          "metadata": {}
        },
        {
          "output_type": "execute_result",
          "execution_count": 37,
          "data": {
            "text/plain": "           name                       level_1    values\n0       Bitcoin   quote.USD.percent_change_1h   0.10577\n1       Bitcoin  quote.USD.percent_change_24h   0.09780\n2       Bitcoin   quote.USD.percent_change_7d   6.07723\n3       Bitcoin  quote.USD.percent_change_30d   6.18411\n4       Bitcoin  quote.USD.percent_change_60d   8.81134\n5       Bitcoin  quote.USD.percent_change_90d  -4.97920\n6      Ethereum   quote.USD.percent_change_1h  -0.01237\n7      Ethereum  quote.USD.percent_change_24h  -0.08838\n8      Ethereum   quote.USD.percent_change_7d   0.38356\n9      Ethereum  quote.USD.percent_change_30d  -4.15334\n10     Ethereum  quote.USD.percent_change_60d  -6.08693\n11     Ethereum  quote.USD.percent_change_90d -17.41488\n12  Tether USDt   quote.USD.percent_change_1h  -0.00727\n13  Tether USDt  quote.USD.percent_change_24h  -0.02290\n14  Tether USDt   quote.USD.percent_change_7d   0.03374\n15  Tether USDt  quote.USD.percent_change_30d  -0.01526\n16  Tether USDt  quote.USD.percent_change_60d   0.02459\n17  Tether USDt  quote.USD.percent_change_90d   0.01998\n18          BNB   quote.USD.percent_change_1h   0.08582\n19          BNB  quote.USD.percent_change_24h  -0.30471\n20          BNB   quote.USD.percent_change_7d   2.65601\n21          BNB  quote.USD.percent_change_30d  -2.57768\n22          BNB  quote.USD.percent_change_60d  -2.84216\n23          BNB  quote.USD.percent_change_90d -13.55600\n24          XRP   quote.USD.percent_change_1h  -0.05243\n25          XRP  quote.USD.percent_change_24h  -0.26961\n26          XRP   quote.USD.percent_change_7d   0.63335\n27          XRP  quote.USD.percent_change_30d  -2.91660\n28          XRP  quote.USD.percent_change_60d  -5.94073\n29          XRP  quote.USD.percent_change_90d -38.57159\n30         USDC   quote.USD.percent_change_1h  -0.00731\n31         USDC  quote.USD.percent_change_24h  -0.00715\n32         USDC   quote.USD.percent_change_7d  -0.00022\n33         USDC  quote.USD.percent_change_30d  -0.01629\n34         USDC  quote.USD.percent_change_60d  -0.01097\n35         USDC  quote.USD.percent_change_90d   0.00382\n36       Solana   quote.USD.percent_change_1h   0.02018\n37       Solana  quote.USD.percent_change_24h  -2.01286\n38       Solana   quote.USD.percent_change_7d   8.03137\n39       Solana  quote.USD.percent_change_30d  18.49576\n40       Solana  quote.USD.percent_change_60d   7.80061\n41       Solana  quote.USD.percent_change_90d  -7.55168\n42      Cardano   quote.USD.percent_change_1h   0.17014\n43      Cardano  quote.USD.percent_change_24h  -0.82778\n44      Cardano   quote.USD.percent_change_7d  -0.86606\n45      Cardano  quote.USD.percent_change_30d  -2.96676\n46      Cardano  quote.USD.percent_change_60d  -8.91002\n47      Cardano  quote.USD.percent_change_90d -22.81708\n48     Dogecoin   quote.USD.percent_change_1h  -0.14276\n49     Dogecoin  quote.USD.percent_change_24h  -0.48643\n50     Dogecoin   quote.USD.percent_change_7d   0.69992\n51     Dogecoin  quote.USD.percent_change_30d  -5.60300\n52     Dogecoin  quote.USD.percent_change_60d  -8.29807\n53     Dogecoin  quote.USD.percent_change_90d -17.31603\n54         TRON   quote.USD.percent_change_1h  -0.22331\n55         TRON  quote.USD.percent_change_24h   0.10141\n56         TRON   quote.USD.percent_change_7d   3.06781\n57         TRON  quote.USD.percent_change_30d   5.71889\n58         TRON  quote.USD.percent_change_60d  19.64993\n59         TRON  quote.USD.percent_change_90d   9.88268",
            "text/html": "<div>\n<style scoped>\n    .dataframe tbody tr th:only-of-type {\n        vertical-align: middle;\n    }\n\n    .dataframe tbody tr th {\n        vertical-align: top;\n    }\n\n    .dataframe thead th {\n        text-align: right;\n    }\n</style>\n<table border=\"1\" class=\"dataframe\">\n  <thead>\n    <tr style=\"text-align: right;\">\n      <th></th>\n      <th>name</th>\n      <th>level_1</th>\n      <th>values</th>\n    </tr>\n  </thead>\n  <tbody>\n    <tr>\n      <th>0</th>\n      <td>Bitcoin</td>\n      <td>quote.USD.percent_change_1h</td>\n      <td>0.10577</td>\n    </tr>\n    <tr>\n      <th>1</th>\n      <td>Bitcoin</td>\n      <td>quote.USD.percent_change_24h</td>\n      <td>0.09780</td>\n    </tr>\n    <tr>\n      <th>2</th>\n      <td>Bitcoin</td>\n      <td>quote.USD.percent_change_7d</td>\n      <td>6.07723</td>\n    </tr>\n    <tr>\n      <th>3</th>\n      <td>Bitcoin</td>\n      <td>quote.USD.percent_change_30d</td>\n      <td>6.18411</td>\n    </tr>\n    <tr>\n      <th>4</th>\n      <td>Bitcoin</td>\n      <td>quote.USD.percent_change_60d</td>\n      <td>8.81134</td>\n    </tr>\n    <tr>\n      <th>5</th>\n      <td>Bitcoin</td>\n      <td>quote.USD.percent_change_90d</td>\n      <td>-4.97920</td>\n    </tr>\n    <tr>\n      <th>6</th>\n      <td>Ethereum</td>\n      <td>quote.USD.percent_change_1h</td>\n      <td>-0.01237</td>\n    </tr>\n    <tr>\n      <th>7</th>\n      <td>Ethereum</td>\n      <td>quote.USD.percent_change_24h</td>\n      <td>-0.08838</td>\n    </tr>\n    <tr>\n      <th>8</th>\n      <td>Ethereum</td>\n      <td>quote.USD.percent_change_7d</td>\n      <td>0.38356</td>\n    </tr>\n    <tr>\n      <th>9</th>\n      <td>Ethereum</td>\n      <td>quote.USD.percent_change_30d</td>\n      <td>-4.15334</td>\n    </tr>\n    <tr>\n      <th>10</th>\n      <td>Ethereum</td>\n      <td>quote.USD.percent_change_60d</td>\n      <td>-6.08693</td>\n    </tr>\n    <tr>\n      <th>11</th>\n      <td>Ethereum</td>\n      <td>quote.USD.percent_change_90d</td>\n      <td>-17.41488</td>\n    </tr>\n    <tr>\n      <th>12</th>\n      <td>Tether USDt</td>\n      <td>quote.USD.percent_change_1h</td>\n      <td>-0.00727</td>\n    </tr>\n    <tr>\n      <th>13</th>\n      <td>Tether USDt</td>\n      <td>quote.USD.percent_change_24h</td>\n      <td>-0.02290</td>\n    </tr>\n    <tr>\n      <th>14</th>\n      <td>Tether USDt</td>\n      <td>quote.USD.percent_change_7d</td>\n      <td>0.03374</td>\n    </tr>\n    <tr>\n      <th>15</th>\n      <td>Tether USDt</td>\n      <td>quote.USD.percent_change_30d</td>\n      <td>-0.01526</td>\n    </tr>\n    <tr>\n      <th>16</th>\n      <td>Tether USDt</td>\n      <td>quote.USD.percent_change_60d</td>\n      <td>0.02459</td>\n    </tr>\n    <tr>\n      <th>17</th>\n      <td>Tether USDt</td>\n      <td>quote.USD.percent_change_90d</td>\n      <td>0.01998</td>\n    </tr>\n    <tr>\n      <th>18</th>\n      <td>BNB</td>\n      <td>quote.USD.percent_change_1h</td>\n      <td>0.08582</td>\n    </tr>\n    <tr>\n      <th>19</th>\n      <td>BNB</td>\n      <td>quote.USD.percent_change_24h</td>\n      <td>-0.30471</td>\n    </tr>\n    <tr>\n      <th>20</th>\n      <td>BNB</td>\n      <td>quote.USD.percent_change_7d</td>\n      <td>2.65601</td>\n    </tr>\n    <tr>\n      <th>21</th>\n      <td>BNB</td>\n      <td>quote.USD.percent_change_30d</td>\n      <td>-2.57768</td>\n    </tr>\n    <tr>\n      <th>22</th>\n      <td>BNB</td>\n      <td>quote.USD.percent_change_60d</td>\n      <td>-2.84216</td>\n    </tr>\n    <tr>\n      <th>23</th>\n      <td>BNB</td>\n      <td>quote.USD.percent_change_90d</td>\n      <td>-13.55600</td>\n    </tr>\n    <tr>\n      <th>24</th>\n      <td>XRP</td>\n      <td>quote.USD.percent_change_1h</td>\n      <td>-0.05243</td>\n    </tr>\n    <tr>\n      <th>25</th>\n      <td>XRP</td>\n      <td>quote.USD.percent_change_24h</td>\n      <td>-0.26961</td>\n    </tr>\n    <tr>\n      <th>26</th>\n      <td>XRP</td>\n      <td>quote.USD.percent_change_7d</td>\n      <td>0.63335</td>\n    </tr>\n    <tr>\n      <th>27</th>\n      <td>XRP</td>\n      <td>quote.USD.percent_change_30d</td>\n      <td>-2.91660</td>\n    </tr>\n    <tr>\n      <th>28</th>\n      <td>XRP</td>\n      <td>quote.USD.percent_change_60d</td>\n      <td>-5.94073</td>\n    </tr>\n    <tr>\n      <th>29</th>\n      <td>XRP</td>\n      <td>quote.USD.percent_change_90d</td>\n      <td>-38.57159</td>\n    </tr>\n    <tr>\n      <th>30</th>\n      <td>USDC</td>\n      <td>quote.USD.percent_change_1h</td>\n      <td>-0.00731</td>\n    </tr>\n    <tr>\n      <th>31</th>\n      <td>USDC</td>\n      <td>quote.USD.percent_change_24h</td>\n      <td>-0.00715</td>\n    </tr>\n    <tr>\n      <th>32</th>\n      <td>USDC</td>\n      <td>quote.USD.percent_change_7d</td>\n      <td>-0.00022</td>\n    </tr>\n    <tr>\n      <th>33</th>\n      <td>USDC</td>\n      <td>quote.USD.percent_change_30d</td>\n      <td>-0.01629</td>\n    </tr>\n    <tr>\n      <th>34</th>\n      <td>USDC</td>\n      <td>quote.USD.percent_change_60d</td>\n      <td>-0.01097</td>\n    </tr>\n    <tr>\n      <th>35</th>\n      <td>USDC</td>\n      <td>quote.USD.percent_change_90d</td>\n      <td>0.00382</td>\n    </tr>\n    <tr>\n      <th>36</th>\n      <td>Solana</td>\n      <td>quote.USD.percent_change_1h</td>\n      <td>0.02018</td>\n    </tr>\n    <tr>\n      <th>37</th>\n      <td>Solana</td>\n      <td>quote.USD.percent_change_24h</td>\n      <td>-2.01286</td>\n    </tr>\n    <tr>\n      <th>38</th>\n      <td>Solana</td>\n      <td>quote.USD.percent_change_7d</td>\n      <td>8.03137</td>\n    </tr>\n    <tr>\n      <th>39</th>\n      <td>Solana</td>\n      <td>quote.USD.percent_change_30d</td>\n      <td>18.49576</td>\n    </tr>\n    <tr>\n      <th>40</th>\n      <td>Solana</td>\n      <td>quote.USD.percent_change_60d</td>\n      <td>7.80061</td>\n    </tr>\n    <tr>\n      <th>41</th>\n      <td>Solana</td>\n      <td>quote.USD.percent_change_90d</td>\n      <td>-7.55168</td>\n    </tr>\n    <tr>\n      <th>42</th>\n      <td>Cardano</td>\n      <td>quote.USD.percent_change_1h</td>\n      <td>0.17014</td>\n    </tr>\n    <tr>\n      <th>43</th>\n      <td>Cardano</td>\n      <td>quote.USD.percent_change_24h</td>\n      <td>-0.82778</td>\n    </tr>\n    <tr>\n      <th>44</th>\n      <td>Cardano</td>\n      <td>quote.USD.percent_change_7d</td>\n      <td>-0.86606</td>\n    </tr>\n    <tr>\n      <th>45</th>\n      <td>Cardano</td>\n      <td>quote.USD.percent_change_30d</td>\n      <td>-2.96676</td>\n    </tr>\n    <tr>\n      <th>46</th>\n      <td>Cardano</td>\n      <td>quote.USD.percent_change_60d</td>\n      <td>-8.91002</td>\n    </tr>\n    <tr>\n      <th>47</th>\n      <td>Cardano</td>\n      <td>quote.USD.percent_change_90d</td>\n      <td>-22.81708</td>\n    </tr>\n    <tr>\n      <th>48</th>\n      <td>Dogecoin</td>\n      <td>quote.USD.percent_change_1h</td>\n      <td>-0.14276</td>\n    </tr>\n    <tr>\n      <th>49</th>\n      <td>Dogecoin</td>\n      <td>quote.USD.percent_change_24h</td>\n      <td>-0.48643</td>\n    </tr>\n    <tr>\n      <th>50</th>\n      <td>Dogecoin</td>\n      <td>quote.USD.percent_change_7d</td>\n      <td>0.69992</td>\n    </tr>\n    <tr>\n      <th>51</th>\n      <td>Dogecoin</td>\n      <td>quote.USD.percent_change_30d</td>\n      <td>-5.60300</td>\n    </tr>\n    <tr>\n      <th>52</th>\n      <td>Dogecoin</td>\n      <td>quote.USD.percent_change_60d</td>\n      <td>-8.29807</td>\n    </tr>\n    <tr>\n      <th>53</th>\n      <td>Dogecoin</td>\n      <td>quote.USD.percent_change_90d</td>\n      <td>-17.31603</td>\n    </tr>\n    <tr>\n      <th>54</th>\n      <td>TRON</td>\n      <td>quote.USD.percent_change_1h</td>\n      <td>-0.22331</td>\n    </tr>\n    <tr>\n      <th>55</th>\n      <td>TRON</td>\n      <td>quote.USD.percent_change_24h</td>\n      <td>0.10141</td>\n    </tr>\n    <tr>\n      <th>56</th>\n      <td>TRON</td>\n      <td>quote.USD.percent_change_7d</td>\n      <td>3.06781</td>\n    </tr>\n    <tr>\n      <th>57</th>\n      <td>TRON</td>\n      <td>quote.USD.percent_change_30d</td>\n      <td>5.71889</td>\n    </tr>\n    <tr>\n      <th>58</th>\n      <td>TRON</td>\n      <td>quote.USD.percent_change_60d</td>\n      <td>19.64993</td>\n    </tr>\n    <tr>\n      <th>59</th>\n      <td>TRON</td>\n      <td>quote.USD.percent_change_90d</td>\n      <td>9.88268</td>\n    </tr>\n  </tbody>\n</table>\n</div>"
          },
          "metadata": {}
        }
      ],
      "execution_count": 14,
      "metadata": {
        "jupyter": {
          "source_hidden": false,
          "outputs_hidden": false
        },
        "nteract": {
          "transient": {
            "deleting": false
          }
        },
        "gather": {
          "logged": 1697679428274
        }
      }
    },
    {
      "cell_type": "code",
      "source": [
        "#Transforming Data: renaming column\n",
        "df7 = df6.rename(columns={'level_1': 'percent_change'})\n",
        "df7"
      ],
      "outputs": [
        {
          "output_type": "display_data",
          "data": {
            "application/vnd.livy.statement-meta+json": {
              "spark_pool": "3a48cab6-14d7-4197-8a6c-030cdba9ac7c",
              "session_id": "2",
              "statement_id": 20,
              "state": "finished",
              "livy_statement_state": "available",
              "queued_time": "2023-10-19T01:37:11.8696523Z",
              "session_start_time": null,
              "execution_start_time": "2023-10-19T01:37:11.9605622Z",
              "execution_finish_time": "2023-10-19T01:37:12.4044889Z",
              "spark_jobs": {
                "numbers": {
                  "SUCCEEDED": 0,
                  "UNKNOWN": 0,
                  "FAILED": 0,
                  "RUNNING": 0
                },
                "jobs": [],
                "limit": 20,
                "rule": "ALL_DESC"
              },
              "parent_msg_id": "794a9dea-2833-4bd8-9511-176915f7171a"
            },
            "text/plain": "StatementMeta(3a48cab6-14d7-4197-8a6c-030cdba9ac7c, 2, 20, Finished, Available)"
          },
          "metadata": {}
        },
        {
          "output_type": "execute_result",
          "execution_count": 39,
          "data": {
            "text/plain": "           name                percent_change    values\n0       Bitcoin   quote.USD.percent_change_1h   0.10577\n1       Bitcoin  quote.USD.percent_change_24h   0.09780\n2       Bitcoin   quote.USD.percent_change_7d   6.07723\n3       Bitcoin  quote.USD.percent_change_30d   6.18411\n4       Bitcoin  quote.USD.percent_change_60d   8.81134\n5       Bitcoin  quote.USD.percent_change_90d  -4.97920\n6      Ethereum   quote.USD.percent_change_1h  -0.01237\n7      Ethereum  quote.USD.percent_change_24h  -0.08838\n8      Ethereum   quote.USD.percent_change_7d   0.38356\n9      Ethereum  quote.USD.percent_change_30d  -4.15334\n10     Ethereum  quote.USD.percent_change_60d  -6.08693\n11     Ethereum  quote.USD.percent_change_90d -17.41488\n12  Tether USDt   quote.USD.percent_change_1h  -0.00727\n13  Tether USDt  quote.USD.percent_change_24h  -0.02290\n14  Tether USDt   quote.USD.percent_change_7d   0.03374\n15  Tether USDt  quote.USD.percent_change_30d  -0.01526\n16  Tether USDt  quote.USD.percent_change_60d   0.02459\n17  Tether USDt  quote.USD.percent_change_90d   0.01998\n18          BNB   quote.USD.percent_change_1h   0.08582\n19          BNB  quote.USD.percent_change_24h  -0.30471\n20          BNB   quote.USD.percent_change_7d   2.65601\n21          BNB  quote.USD.percent_change_30d  -2.57768\n22          BNB  quote.USD.percent_change_60d  -2.84216\n23          BNB  quote.USD.percent_change_90d -13.55600\n24          XRP   quote.USD.percent_change_1h  -0.05243\n25          XRP  quote.USD.percent_change_24h  -0.26961\n26          XRP   quote.USD.percent_change_7d   0.63335\n27          XRP  quote.USD.percent_change_30d  -2.91660\n28          XRP  quote.USD.percent_change_60d  -5.94073\n29          XRP  quote.USD.percent_change_90d -38.57159\n30         USDC   quote.USD.percent_change_1h  -0.00731\n31         USDC  quote.USD.percent_change_24h  -0.00715\n32         USDC   quote.USD.percent_change_7d  -0.00022\n33         USDC  quote.USD.percent_change_30d  -0.01629\n34         USDC  quote.USD.percent_change_60d  -0.01097\n35         USDC  quote.USD.percent_change_90d   0.00382\n36       Solana   quote.USD.percent_change_1h   0.02018\n37       Solana  quote.USD.percent_change_24h  -2.01286\n38       Solana   quote.USD.percent_change_7d   8.03137\n39       Solana  quote.USD.percent_change_30d  18.49576\n40       Solana  quote.USD.percent_change_60d   7.80061\n41       Solana  quote.USD.percent_change_90d  -7.55168\n42      Cardano   quote.USD.percent_change_1h   0.17014\n43      Cardano  quote.USD.percent_change_24h  -0.82778\n44      Cardano   quote.USD.percent_change_7d  -0.86606\n45      Cardano  quote.USD.percent_change_30d  -2.96676\n46      Cardano  quote.USD.percent_change_60d  -8.91002\n47      Cardano  quote.USD.percent_change_90d -22.81708\n48     Dogecoin   quote.USD.percent_change_1h  -0.14276\n49     Dogecoin  quote.USD.percent_change_24h  -0.48643\n50     Dogecoin   quote.USD.percent_change_7d   0.69992\n51     Dogecoin  quote.USD.percent_change_30d  -5.60300\n52     Dogecoin  quote.USD.percent_change_60d  -8.29807\n53     Dogecoin  quote.USD.percent_change_90d -17.31603\n54         TRON   quote.USD.percent_change_1h  -0.22331\n55         TRON  quote.USD.percent_change_24h   0.10141\n56         TRON   quote.USD.percent_change_7d   3.06781\n57         TRON  quote.USD.percent_change_30d   5.71889\n58         TRON  quote.USD.percent_change_60d  19.64993\n59         TRON  quote.USD.percent_change_90d   9.88268",
            "text/html": "<div>\n<style scoped>\n    .dataframe tbody tr th:only-of-type {\n        vertical-align: middle;\n    }\n\n    .dataframe tbody tr th {\n        vertical-align: top;\n    }\n\n    .dataframe thead th {\n        text-align: right;\n    }\n</style>\n<table border=\"1\" class=\"dataframe\">\n  <thead>\n    <tr style=\"text-align: right;\">\n      <th></th>\n      <th>name</th>\n      <th>percent_change</th>\n      <th>values</th>\n    </tr>\n  </thead>\n  <tbody>\n    <tr>\n      <th>0</th>\n      <td>Bitcoin</td>\n      <td>quote.USD.percent_change_1h</td>\n      <td>0.10577</td>\n    </tr>\n    <tr>\n      <th>1</th>\n      <td>Bitcoin</td>\n      <td>quote.USD.percent_change_24h</td>\n      <td>0.09780</td>\n    </tr>\n    <tr>\n      <th>2</th>\n      <td>Bitcoin</td>\n      <td>quote.USD.percent_change_7d</td>\n      <td>6.07723</td>\n    </tr>\n    <tr>\n      <th>3</th>\n      <td>Bitcoin</td>\n      <td>quote.USD.percent_change_30d</td>\n      <td>6.18411</td>\n    </tr>\n    <tr>\n      <th>4</th>\n      <td>Bitcoin</td>\n      <td>quote.USD.percent_change_60d</td>\n      <td>8.81134</td>\n    </tr>\n    <tr>\n      <th>5</th>\n      <td>Bitcoin</td>\n      <td>quote.USD.percent_change_90d</td>\n      <td>-4.97920</td>\n    </tr>\n    <tr>\n      <th>6</th>\n      <td>Ethereum</td>\n      <td>quote.USD.percent_change_1h</td>\n      <td>-0.01237</td>\n    </tr>\n    <tr>\n      <th>7</th>\n      <td>Ethereum</td>\n      <td>quote.USD.percent_change_24h</td>\n      <td>-0.08838</td>\n    </tr>\n    <tr>\n      <th>8</th>\n      <td>Ethereum</td>\n      <td>quote.USD.percent_change_7d</td>\n      <td>0.38356</td>\n    </tr>\n    <tr>\n      <th>9</th>\n      <td>Ethereum</td>\n      <td>quote.USD.percent_change_30d</td>\n      <td>-4.15334</td>\n    </tr>\n    <tr>\n      <th>10</th>\n      <td>Ethereum</td>\n      <td>quote.USD.percent_change_60d</td>\n      <td>-6.08693</td>\n    </tr>\n    <tr>\n      <th>11</th>\n      <td>Ethereum</td>\n      <td>quote.USD.percent_change_90d</td>\n      <td>-17.41488</td>\n    </tr>\n    <tr>\n      <th>12</th>\n      <td>Tether USDt</td>\n      <td>quote.USD.percent_change_1h</td>\n      <td>-0.00727</td>\n    </tr>\n    <tr>\n      <th>13</th>\n      <td>Tether USDt</td>\n      <td>quote.USD.percent_change_24h</td>\n      <td>-0.02290</td>\n    </tr>\n    <tr>\n      <th>14</th>\n      <td>Tether USDt</td>\n      <td>quote.USD.percent_change_7d</td>\n      <td>0.03374</td>\n    </tr>\n    <tr>\n      <th>15</th>\n      <td>Tether USDt</td>\n      <td>quote.USD.percent_change_30d</td>\n      <td>-0.01526</td>\n    </tr>\n    <tr>\n      <th>16</th>\n      <td>Tether USDt</td>\n      <td>quote.USD.percent_change_60d</td>\n      <td>0.02459</td>\n    </tr>\n    <tr>\n      <th>17</th>\n      <td>Tether USDt</td>\n      <td>quote.USD.percent_change_90d</td>\n      <td>0.01998</td>\n    </tr>\n    <tr>\n      <th>18</th>\n      <td>BNB</td>\n      <td>quote.USD.percent_change_1h</td>\n      <td>0.08582</td>\n    </tr>\n    <tr>\n      <th>19</th>\n      <td>BNB</td>\n      <td>quote.USD.percent_change_24h</td>\n      <td>-0.30471</td>\n    </tr>\n    <tr>\n      <th>20</th>\n      <td>BNB</td>\n      <td>quote.USD.percent_change_7d</td>\n      <td>2.65601</td>\n    </tr>\n    <tr>\n      <th>21</th>\n      <td>BNB</td>\n      <td>quote.USD.percent_change_30d</td>\n      <td>-2.57768</td>\n    </tr>\n    <tr>\n      <th>22</th>\n      <td>BNB</td>\n      <td>quote.USD.percent_change_60d</td>\n      <td>-2.84216</td>\n    </tr>\n    <tr>\n      <th>23</th>\n      <td>BNB</td>\n      <td>quote.USD.percent_change_90d</td>\n      <td>-13.55600</td>\n    </tr>\n    <tr>\n      <th>24</th>\n      <td>XRP</td>\n      <td>quote.USD.percent_change_1h</td>\n      <td>-0.05243</td>\n    </tr>\n    <tr>\n      <th>25</th>\n      <td>XRP</td>\n      <td>quote.USD.percent_change_24h</td>\n      <td>-0.26961</td>\n    </tr>\n    <tr>\n      <th>26</th>\n      <td>XRP</td>\n      <td>quote.USD.percent_change_7d</td>\n      <td>0.63335</td>\n    </tr>\n    <tr>\n      <th>27</th>\n      <td>XRP</td>\n      <td>quote.USD.percent_change_30d</td>\n      <td>-2.91660</td>\n    </tr>\n    <tr>\n      <th>28</th>\n      <td>XRP</td>\n      <td>quote.USD.percent_change_60d</td>\n      <td>-5.94073</td>\n    </tr>\n    <tr>\n      <th>29</th>\n      <td>XRP</td>\n      <td>quote.USD.percent_change_90d</td>\n      <td>-38.57159</td>\n    </tr>\n    <tr>\n      <th>30</th>\n      <td>USDC</td>\n      <td>quote.USD.percent_change_1h</td>\n      <td>-0.00731</td>\n    </tr>\n    <tr>\n      <th>31</th>\n      <td>USDC</td>\n      <td>quote.USD.percent_change_24h</td>\n      <td>-0.00715</td>\n    </tr>\n    <tr>\n      <th>32</th>\n      <td>USDC</td>\n      <td>quote.USD.percent_change_7d</td>\n      <td>-0.00022</td>\n    </tr>\n    <tr>\n      <th>33</th>\n      <td>USDC</td>\n      <td>quote.USD.percent_change_30d</td>\n      <td>-0.01629</td>\n    </tr>\n    <tr>\n      <th>34</th>\n      <td>USDC</td>\n      <td>quote.USD.percent_change_60d</td>\n      <td>-0.01097</td>\n    </tr>\n    <tr>\n      <th>35</th>\n      <td>USDC</td>\n      <td>quote.USD.percent_change_90d</td>\n      <td>0.00382</td>\n    </tr>\n    <tr>\n      <th>36</th>\n      <td>Solana</td>\n      <td>quote.USD.percent_change_1h</td>\n      <td>0.02018</td>\n    </tr>\n    <tr>\n      <th>37</th>\n      <td>Solana</td>\n      <td>quote.USD.percent_change_24h</td>\n      <td>-2.01286</td>\n    </tr>\n    <tr>\n      <th>38</th>\n      <td>Solana</td>\n      <td>quote.USD.percent_change_7d</td>\n      <td>8.03137</td>\n    </tr>\n    <tr>\n      <th>39</th>\n      <td>Solana</td>\n      <td>quote.USD.percent_change_30d</td>\n      <td>18.49576</td>\n    </tr>\n    <tr>\n      <th>40</th>\n      <td>Solana</td>\n      <td>quote.USD.percent_change_60d</td>\n      <td>7.80061</td>\n    </tr>\n    <tr>\n      <th>41</th>\n      <td>Solana</td>\n      <td>quote.USD.percent_change_90d</td>\n      <td>-7.55168</td>\n    </tr>\n    <tr>\n      <th>42</th>\n      <td>Cardano</td>\n      <td>quote.USD.percent_change_1h</td>\n      <td>0.17014</td>\n    </tr>\n    <tr>\n      <th>43</th>\n      <td>Cardano</td>\n      <td>quote.USD.percent_change_24h</td>\n      <td>-0.82778</td>\n    </tr>\n    <tr>\n      <th>44</th>\n      <td>Cardano</td>\n      <td>quote.USD.percent_change_7d</td>\n      <td>-0.86606</td>\n    </tr>\n    <tr>\n      <th>45</th>\n      <td>Cardano</td>\n      <td>quote.USD.percent_change_30d</td>\n      <td>-2.96676</td>\n    </tr>\n    <tr>\n      <th>46</th>\n      <td>Cardano</td>\n      <td>quote.USD.percent_change_60d</td>\n      <td>-8.91002</td>\n    </tr>\n    <tr>\n      <th>47</th>\n      <td>Cardano</td>\n      <td>quote.USD.percent_change_90d</td>\n      <td>-22.81708</td>\n    </tr>\n    <tr>\n      <th>48</th>\n      <td>Dogecoin</td>\n      <td>quote.USD.percent_change_1h</td>\n      <td>-0.14276</td>\n    </tr>\n    <tr>\n      <th>49</th>\n      <td>Dogecoin</td>\n      <td>quote.USD.percent_change_24h</td>\n      <td>-0.48643</td>\n    </tr>\n    <tr>\n      <th>50</th>\n      <td>Dogecoin</td>\n      <td>quote.USD.percent_change_7d</td>\n      <td>0.69992</td>\n    </tr>\n    <tr>\n      <th>51</th>\n      <td>Dogecoin</td>\n      <td>quote.USD.percent_change_30d</td>\n      <td>-5.60300</td>\n    </tr>\n    <tr>\n      <th>52</th>\n      <td>Dogecoin</td>\n      <td>quote.USD.percent_change_60d</td>\n      <td>-8.29807</td>\n    </tr>\n    <tr>\n      <th>53</th>\n      <td>Dogecoin</td>\n      <td>quote.USD.percent_change_90d</td>\n      <td>-17.31603</td>\n    </tr>\n    <tr>\n      <th>54</th>\n      <td>TRON</td>\n      <td>quote.USD.percent_change_1h</td>\n      <td>-0.22331</td>\n    </tr>\n    <tr>\n      <th>55</th>\n      <td>TRON</td>\n      <td>quote.USD.percent_change_24h</td>\n      <td>0.10141</td>\n    </tr>\n    <tr>\n      <th>56</th>\n      <td>TRON</td>\n      <td>quote.USD.percent_change_7d</td>\n      <td>3.06781</td>\n    </tr>\n    <tr>\n      <th>57</th>\n      <td>TRON</td>\n      <td>quote.USD.percent_change_30d</td>\n      <td>5.71889</td>\n    </tr>\n    <tr>\n      <th>58</th>\n      <td>TRON</td>\n      <td>quote.USD.percent_change_60d</td>\n      <td>19.64993</td>\n    </tr>\n    <tr>\n      <th>59</th>\n      <td>TRON</td>\n      <td>quote.USD.percent_change_90d</td>\n      <td>9.88268</td>\n    </tr>\n  </tbody>\n</table>\n</div>"
          },
          "metadata": {}
        }
      ],
      "execution_count": 15,
      "metadata": {
        "jupyter": {
          "source_hidden": false,
          "outputs_hidden": false
        },
        "nteract": {
          "transient": {
            "deleting": false
          }
        },
        "gather": {
          "logged": 1697679432537
        }
      }
    },
    {
      "cell_type": "code",
      "source": [
        "#Transforming Data: replacing column values\n",
        "\n",
        "df7['percent_change'] = df7['percent_change'].replace(['quote.USD.percent_change_1h','quote.USD.percent_change_24h','quote.USD.percent_change_7d','quote.USD.percent_change_30d','quote.USD.percent_change_60d','quote.USD.percent_change_90d'],['1h', '24h','7d','30d','60d','90d'])\n",
        "df7"
      ],
      "outputs": [
        {
          "output_type": "display_data",
          "data": {
            "application/vnd.livy.statement-meta+json": {
              "spark_pool": "3a48cab6-14d7-4197-8a6c-030cdba9ac7c",
              "session_id": "2",
              "statement_id": 21,
              "state": "finished",
              "livy_statement_state": "available",
              "queued_time": "2023-10-19T01:37:15.2976345Z",
              "session_start_time": null,
              "execution_start_time": "2023-10-19T01:37:15.4000173Z",
              "execution_finish_time": "2023-10-19T01:37:15.8252665Z",
              "spark_jobs": {
                "numbers": {
                  "SUCCEEDED": 0,
                  "UNKNOWN": 0,
                  "FAILED": 0,
                  "RUNNING": 0
                },
                "jobs": [],
                "limit": 20,
                "rule": "ALL_DESC"
              },
              "parent_msg_id": "15a22d3e-734c-4390-aee9-436634324d90"
            },
            "text/plain": "StatementMeta(3a48cab6-14d7-4197-8a6c-030cdba9ac7c, 2, 21, Finished, Available)"
          },
          "metadata": {}
        },
        {
          "output_type": "execute_result",
          "execution_count": 41,
          "data": {
            "text/plain": "           name percent_change    values\n0       Bitcoin             1h   0.10577\n1       Bitcoin            24h   0.09780\n2       Bitcoin             7d   6.07723\n3       Bitcoin            30d   6.18411\n4       Bitcoin            60d   8.81134\n5       Bitcoin            90d  -4.97920\n6      Ethereum             1h  -0.01237\n7      Ethereum            24h  -0.08838\n8      Ethereum             7d   0.38356\n9      Ethereum            30d  -4.15334\n10     Ethereum            60d  -6.08693\n11     Ethereum            90d -17.41488\n12  Tether USDt             1h  -0.00727\n13  Tether USDt            24h  -0.02290\n14  Tether USDt             7d   0.03374\n15  Tether USDt            30d  -0.01526\n16  Tether USDt            60d   0.02459\n17  Tether USDt            90d   0.01998\n18          BNB             1h   0.08582\n19          BNB            24h  -0.30471\n20          BNB             7d   2.65601\n21          BNB            30d  -2.57768\n22          BNB            60d  -2.84216\n23          BNB            90d -13.55600\n24          XRP             1h  -0.05243\n25          XRP            24h  -0.26961\n26          XRP             7d   0.63335\n27          XRP            30d  -2.91660\n28          XRP            60d  -5.94073\n29          XRP            90d -38.57159\n30         USDC             1h  -0.00731\n31         USDC            24h  -0.00715\n32         USDC             7d  -0.00022\n33         USDC            30d  -0.01629\n34         USDC            60d  -0.01097\n35         USDC            90d   0.00382\n36       Solana             1h   0.02018\n37       Solana            24h  -2.01286\n38       Solana             7d   8.03137\n39       Solana            30d  18.49576\n40       Solana            60d   7.80061\n41       Solana            90d  -7.55168\n42      Cardano             1h   0.17014\n43      Cardano            24h  -0.82778\n44      Cardano             7d  -0.86606\n45      Cardano            30d  -2.96676\n46      Cardano            60d  -8.91002\n47      Cardano            90d -22.81708\n48     Dogecoin             1h  -0.14276\n49     Dogecoin            24h  -0.48643\n50     Dogecoin             7d   0.69992\n51     Dogecoin            30d  -5.60300\n52     Dogecoin            60d  -8.29807\n53     Dogecoin            90d -17.31603\n54         TRON             1h  -0.22331\n55         TRON            24h   0.10141\n56         TRON             7d   3.06781\n57         TRON            30d   5.71889\n58         TRON            60d  19.64993\n59         TRON            90d   9.88268",
            "text/html": "<div>\n<style scoped>\n    .dataframe tbody tr th:only-of-type {\n        vertical-align: middle;\n    }\n\n    .dataframe tbody tr th {\n        vertical-align: top;\n    }\n\n    .dataframe thead th {\n        text-align: right;\n    }\n</style>\n<table border=\"1\" class=\"dataframe\">\n  <thead>\n    <tr style=\"text-align: right;\">\n      <th></th>\n      <th>name</th>\n      <th>percent_change</th>\n      <th>values</th>\n    </tr>\n  </thead>\n  <tbody>\n    <tr>\n      <th>0</th>\n      <td>Bitcoin</td>\n      <td>1h</td>\n      <td>0.10577</td>\n    </tr>\n    <tr>\n      <th>1</th>\n      <td>Bitcoin</td>\n      <td>24h</td>\n      <td>0.09780</td>\n    </tr>\n    <tr>\n      <th>2</th>\n      <td>Bitcoin</td>\n      <td>7d</td>\n      <td>6.07723</td>\n    </tr>\n    <tr>\n      <th>3</th>\n      <td>Bitcoin</td>\n      <td>30d</td>\n      <td>6.18411</td>\n    </tr>\n    <tr>\n      <th>4</th>\n      <td>Bitcoin</td>\n      <td>60d</td>\n      <td>8.81134</td>\n    </tr>\n    <tr>\n      <th>5</th>\n      <td>Bitcoin</td>\n      <td>90d</td>\n      <td>-4.97920</td>\n    </tr>\n    <tr>\n      <th>6</th>\n      <td>Ethereum</td>\n      <td>1h</td>\n      <td>-0.01237</td>\n    </tr>\n    <tr>\n      <th>7</th>\n      <td>Ethereum</td>\n      <td>24h</td>\n      <td>-0.08838</td>\n    </tr>\n    <tr>\n      <th>8</th>\n      <td>Ethereum</td>\n      <td>7d</td>\n      <td>0.38356</td>\n    </tr>\n    <tr>\n      <th>9</th>\n      <td>Ethereum</td>\n      <td>30d</td>\n      <td>-4.15334</td>\n    </tr>\n    <tr>\n      <th>10</th>\n      <td>Ethereum</td>\n      <td>60d</td>\n      <td>-6.08693</td>\n    </tr>\n    <tr>\n      <th>11</th>\n      <td>Ethereum</td>\n      <td>90d</td>\n      <td>-17.41488</td>\n    </tr>\n    <tr>\n      <th>12</th>\n      <td>Tether USDt</td>\n      <td>1h</td>\n      <td>-0.00727</td>\n    </tr>\n    <tr>\n      <th>13</th>\n      <td>Tether USDt</td>\n      <td>24h</td>\n      <td>-0.02290</td>\n    </tr>\n    <tr>\n      <th>14</th>\n      <td>Tether USDt</td>\n      <td>7d</td>\n      <td>0.03374</td>\n    </tr>\n    <tr>\n      <th>15</th>\n      <td>Tether USDt</td>\n      <td>30d</td>\n      <td>-0.01526</td>\n    </tr>\n    <tr>\n      <th>16</th>\n      <td>Tether USDt</td>\n      <td>60d</td>\n      <td>0.02459</td>\n    </tr>\n    <tr>\n      <th>17</th>\n      <td>Tether USDt</td>\n      <td>90d</td>\n      <td>0.01998</td>\n    </tr>\n    <tr>\n      <th>18</th>\n      <td>BNB</td>\n      <td>1h</td>\n      <td>0.08582</td>\n    </tr>\n    <tr>\n      <th>19</th>\n      <td>BNB</td>\n      <td>24h</td>\n      <td>-0.30471</td>\n    </tr>\n    <tr>\n      <th>20</th>\n      <td>BNB</td>\n      <td>7d</td>\n      <td>2.65601</td>\n    </tr>\n    <tr>\n      <th>21</th>\n      <td>BNB</td>\n      <td>30d</td>\n      <td>-2.57768</td>\n    </tr>\n    <tr>\n      <th>22</th>\n      <td>BNB</td>\n      <td>60d</td>\n      <td>-2.84216</td>\n    </tr>\n    <tr>\n      <th>23</th>\n      <td>BNB</td>\n      <td>90d</td>\n      <td>-13.55600</td>\n    </tr>\n    <tr>\n      <th>24</th>\n      <td>XRP</td>\n      <td>1h</td>\n      <td>-0.05243</td>\n    </tr>\n    <tr>\n      <th>25</th>\n      <td>XRP</td>\n      <td>24h</td>\n      <td>-0.26961</td>\n    </tr>\n    <tr>\n      <th>26</th>\n      <td>XRP</td>\n      <td>7d</td>\n      <td>0.63335</td>\n    </tr>\n    <tr>\n      <th>27</th>\n      <td>XRP</td>\n      <td>30d</td>\n      <td>-2.91660</td>\n    </tr>\n    <tr>\n      <th>28</th>\n      <td>XRP</td>\n      <td>60d</td>\n      <td>-5.94073</td>\n    </tr>\n    <tr>\n      <th>29</th>\n      <td>XRP</td>\n      <td>90d</td>\n      <td>-38.57159</td>\n    </tr>\n    <tr>\n      <th>30</th>\n      <td>USDC</td>\n      <td>1h</td>\n      <td>-0.00731</td>\n    </tr>\n    <tr>\n      <th>31</th>\n      <td>USDC</td>\n      <td>24h</td>\n      <td>-0.00715</td>\n    </tr>\n    <tr>\n      <th>32</th>\n      <td>USDC</td>\n      <td>7d</td>\n      <td>-0.00022</td>\n    </tr>\n    <tr>\n      <th>33</th>\n      <td>USDC</td>\n      <td>30d</td>\n      <td>-0.01629</td>\n    </tr>\n    <tr>\n      <th>34</th>\n      <td>USDC</td>\n      <td>60d</td>\n      <td>-0.01097</td>\n    </tr>\n    <tr>\n      <th>35</th>\n      <td>USDC</td>\n      <td>90d</td>\n      <td>0.00382</td>\n    </tr>\n    <tr>\n      <th>36</th>\n      <td>Solana</td>\n      <td>1h</td>\n      <td>0.02018</td>\n    </tr>\n    <tr>\n      <th>37</th>\n      <td>Solana</td>\n      <td>24h</td>\n      <td>-2.01286</td>\n    </tr>\n    <tr>\n      <th>38</th>\n      <td>Solana</td>\n      <td>7d</td>\n      <td>8.03137</td>\n    </tr>\n    <tr>\n      <th>39</th>\n      <td>Solana</td>\n      <td>30d</td>\n      <td>18.49576</td>\n    </tr>\n    <tr>\n      <th>40</th>\n      <td>Solana</td>\n      <td>60d</td>\n      <td>7.80061</td>\n    </tr>\n    <tr>\n      <th>41</th>\n      <td>Solana</td>\n      <td>90d</td>\n      <td>-7.55168</td>\n    </tr>\n    <tr>\n      <th>42</th>\n      <td>Cardano</td>\n      <td>1h</td>\n      <td>0.17014</td>\n    </tr>\n    <tr>\n      <th>43</th>\n      <td>Cardano</td>\n      <td>24h</td>\n      <td>-0.82778</td>\n    </tr>\n    <tr>\n      <th>44</th>\n      <td>Cardano</td>\n      <td>7d</td>\n      <td>-0.86606</td>\n    </tr>\n    <tr>\n      <th>45</th>\n      <td>Cardano</td>\n      <td>30d</td>\n      <td>-2.96676</td>\n    </tr>\n    <tr>\n      <th>46</th>\n      <td>Cardano</td>\n      <td>60d</td>\n      <td>-8.91002</td>\n    </tr>\n    <tr>\n      <th>47</th>\n      <td>Cardano</td>\n      <td>90d</td>\n      <td>-22.81708</td>\n    </tr>\n    <tr>\n      <th>48</th>\n      <td>Dogecoin</td>\n      <td>1h</td>\n      <td>-0.14276</td>\n    </tr>\n    <tr>\n      <th>49</th>\n      <td>Dogecoin</td>\n      <td>24h</td>\n      <td>-0.48643</td>\n    </tr>\n    <tr>\n      <th>50</th>\n      <td>Dogecoin</td>\n      <td>7d</td>\n      <td>0.69992</td>\n    </tr>\n    <tr>\n      <th>51</th>\n      <td>Dogecoin</td>\n      <td>30d</td>\n      <td>-5.60300</td>\n    </tr>\n    <tr>\n      <th>52</th>\n      <td>Dogecoin</td>\n      <td>60d</td>\n      <td>-8.29807</td>\n    </tr>\n    <tr>\n      <th>53</th>\n      <td>Dogecoin</td>\n      <td>90d</td>\n      <td>-17.31603</td>\n    </tr>\n    <tr>\n      <th>54</th>\n      <td>TRON</td>\n      <td>1h</td>\n      <td>-0.22331</td>\n    </tr>\n    <tr>\n      <th>55</th>\n      <td>TRON</td>\n      <td>24h</td>\n      <td>0.10141</td>\n    </tr>\n    <tr>\n      <th>56</th>\n      <td>TRON</td>\n      <td>7d</td>\n      <td>3.06781</td>\n    </tr>\n    <tr>\n      <th>57</th>\n      <td>TRON</td>\n      <td>30d</td>\n      <td>5.71889</td>\n    </tr>\n    <tr>\n      <th>58</th>\n      <td>TRON</td>\n      <td>60d</td>\n      <td>19.64993</td>\n    </tr>\n    <tr>\n      <th>59</th>\n      <td>TRON</td>\n      <td>90d</td>\n      <td>9.88268</td>\n    </tr>\n  </tbody>\n</table>\n</div>"
          },
          "metadata": {}
        }
      ],
      "execution_count": 16,
      "metadata": {
        "jupyter": {
          "source_hidden": false,
          "outputs_hidden": false
        },
        "nteract": {
          "transient": {
            "deleting": false
          }
        },
        "gather": {
          "logged": 1697679436141
        }
      }
    },
    {
      "cell_type": "code",
      "source": [
        "# Storing transformed data in dataset\n",
        "from azureml.core import Workspace, Datastore, Dataset\n",
        "\n",
        "# Set up your Azure Machine Learning workspace\n",
        "subscription_id = '027643ef-e8cb-46b4-94f2-8544da081a79'\n",
        "workspace_name = 'FirstCrypto'\n",
        "resource_group = 'FirstCrypto'\n",
        "\n",
        "ws = Workspace(subscription_id=subscription_id, resource_group=resource_group, workspace_name=workspace_name)\n",
        "# Convert your DataFrame to a TabularDataset\n",
        "dataset_name = 'transformed_crypto_data'\n",
        "dataset = Dataset.Tabular.register_pandas_dataframe(df7, (Datastore.get(ws, 'workspaceblobstore'), dataset_name), dataset_name)\n"
      ],
      "outputs": [
        {
          "output_type": "display_data",
          "data": {
            "application/vnd.livy.statement-meta+json": {
              "spark_pool": "3a48cab6-14d7-4197-8a6c-030cdba9ac7c",
              "session_id": "2",
              "statement_id": 22,
              "state": "finished",
              "livy_statement_state": "available",
              "queued_time": "2023-10-19T01:37:18.5450219Z",
              "session_start_time": null,
              "execution_start_time": "2023-10-19T01:37:18.65196Z",
              "execution_finish_time": "2023-10-19T01:37:20.5707461Z",
              "spark_jobs": {
                "numbers": {
                  "SUCCEEDED": 0,
                  "UNKNOWN": 0,
                  "FAILED": 0,
                  "RUNNING": 0
                },
                "jobs": [],
                "limit": 20,
                "rule": "ALL_DESC"
              },
              "parent_msg_id": "2eea5058-4a87-43ae-8638-b7192c7638fe"
            },
            "text/plain": "StatementMeta(3a48cab6-14d7-4197-8a6c-030cdba9ac7c, 2, 22, Finished, Available)"
          },
          "metadata": {}
        },
        {
          "output_type": "stream",
          "name": "stdout",
          "text": "Method register_pandas_dataframe: This is an experimental method, and may change at any time. Please see https://aka.ms/azuremlexperimental for more information.\nValidating arguments.\nArguments validated.\nSuccessfully obtained datastore reference and path.\nUploading file to transformed_crypto_data/4d92a5db-e22f-4a82-b557-48f9cdeaf4d2/\nSuccessfully uploaded file to datastore.\nCreating and registering a new dataset.\nSuccessfully created and registered a new dataset.\n"
        }
      ],
      "execution_count": 17,
      "metadata": {
        "jupyter": {
          "source_hidden": false,
          "outputs_hidden": false
        },
        "nteract": {
          "transient": {
            "deleting": false
          }
        },
        "gather": {
          "logged": 1697679440655
        }
      }
    },
    {
      "cell_type": "code",
      "source": [
        "# Exporting data to csv for visualization in Power Bi or Tableau\n",
        "df7.to_csv('td.csv')"
      ],
      "outputs": [
        {
          "output_type": "display_data",
          "data": {
            "application/vnd.livy.statement-meta+json": {
              "spark_pool": "3a48cab6-14d7-4197-8a6c-030cdba9ac7c",
              "session_id": "3",
              "statement_id": 6,
              "state": "submitted",
              "livy_statement_state": "waiting",
              "queued_time": "2023-10-19T02:09:35.9118177Z",
              "session_start_time": "2023-10-19T02:09:35.9136481Z",
              "execution_start_time": "2023-10-19T02:10:57.1629574Z",
              "execution_finish_time": null,
              "spark_jobs": null,
              "parent_msg_id": "25747dde-54e2-4d25-8ba7-9d81b1432ab2"
            },
            "text/plain": "StatementMeta(3a48cab6-14d7-4197-8a6c-030cdba9ac7c, 3, 6, Submitted, Waiting)"
          },
          "metadata": {}
        }
      ],
      "execution_count": 1,
      "metadata": {
        "jupyter": {
          "source_hidden": false,
          "outputs_hidden": false
        },
        "nteract": {
          "transient": {
            "deleting": false
          }
        },
        "gather": {
          "logged": 1697679448759
        }
      }
    },
    {
      "cell_type": "code",
      "source": [
        "#Visualising Data\n",
        "\n",
        "import seaborn as sns\n",
        "import matplotlib.pyplot as plt"
      ],
      "outputs": [
        {
          "output_type": "display_data",
          "data": {
            "application/vnd.livy.statement-meta+json": {
              "spark_pool": "3a48cab6-14d7-4197-8a6c-030cdba9ac7c",
              "session_id": "2",
              "statement_id": 24,
              "state": "finished",
              "livy_statement_state": "available",
              "queued_time": "2023-10-19T01:37:38.7006759Z",
              "session_start_time": null,
              "execution_start_time": "2023-10-19T01:37:38.7981058Z",
              "execution_finish_time": "2023-10-19T01:37:45.9698644Z",
              "spark_jobs": {
                "numbers": {
                  "SUCCEEDED": 0,
                  "UNKNOWN": 0,
                  "FAILED": 0,
                  "RUNNING": 0
                },
                "jobs": [],
                "limit": 20,
                "rule": "ALL_DESC"
              },
              "parent_msg_id": "25392b6b-4b70-4228-84ab-49a66d08a87e"
            },
            "text/plain": "StatementMeta(3a48cab6-14d7-4197-8a6c-030cdba9ac7c, 2, 24, Finished, Available)"
          },
          "metadata": {}
        }
      ],
      "execution_count": 19,
      "metadata": {
        "jupyter": {
          "source_hidden": false,
          "outputs_hidden": false
        },
        "nteract": {
          "transient": {
            "deleting": false
          }
        },
        "gather": {
          "logged": 1697679466175
        }
      }
    },
    {
      "cell_type": "code",
      "source": [
        "sns.catplot(x='percent_change', y='values', hue='name', data=df7, kind='point')"
      ],
      "outputs": [
        {
          "output_type": "display_data",
          "data": {
            "application/vnd.livy.statement-meta+json": {
              "spark_pool": "3a48cab6-14d7-4197-8a6c-030cdba9ac7c",
              "session_id": "2",
              "statement_id": 25,
              "state": "finished",
              "livy_statement_state": "available",
              "queued_time": "2023-10-19T01:37:48.3821365Z",
              "session_start_time": null,
              "execution_start_time": "2023-10-19T01:37:48.4723822Z",
              "execution_finish_time": "2023-10-19T01:37:51.4060058Z",
              "spark_jobs": {
                "numbers": {
                  "SUCCEEDED": 0,
                  "UNKNOWN": 0,
                  "FAILED": 0,
                  "RUNNING": 0
                },
                "jobs": [],
                "limit": 20,
                "rule": "ALL_DESC"
              },
              "parent_msg_id": "d91bc243-ed66-4081-be9e-a4b81395e6eb"
            },
            "text/plain": "StatementMeta(3a48cab6-14d7-4197-8a6c-030cdba9ac7c, 2, 25, Finished, Available)"
          },
          "metadata": {}
        },
        {
          "output_type": "execute_result",
          "execution_count": 49,
          "data": {
            "text/plain": "<seaborn.axisgrid.FacetGrid at 0x7fa90c119940>"
          },
          "metadata": {}
        },
        {
          "output_type": "display_data",
          "data": {
            "text/plain": "<Figure size 455.25x360 with 1 Axes>",
            "image/png": "[encoded data removed]"
          },
          "metadata": {
            "needs_background": "light"
          }
        }
      ],
      "execution_count": 20,
      "metadata": {
        "jupyter": {
          "source_hidden": false,
          "outputs_hidden": false
        },
        "nteract": {
          "transient": {
            "deleting": false
          }
        },
        "gather": {
          "logged": 1697679471494
        }
      }
    },
    {
      "cell_type": "code",
      "source": [
        "# gettin required data from raw data for another visualization\n",
        "\n",
        "df10 = df[['name','quote.USD.price','timestamp']]\n",
        "df10 = df10.query(\"name == 'Bitcoin'\")\n",
        "df10"
      ],
      "outputs": [
        {
          "output_type": "display_data",
          "data": {
            "application/vnd.livy.statement-meta+json": {
              "spark_pool": "3a48cab6-14d7-4197-8a6c-030cdba9ac7c",
              "session_id": "2",
              "statement_id": 26,
              "state": "finished",
              "livy_statement_state": "available",
              "queued_time": "2023-10-19T01:37:53.7761437Z",
              "session_start_time": null,
              "execution_start_time": "2023-10-19T01:37:53.8690133Z",
              "execution_finish_time": "2023-10-19T01:37:54.304634Z",
              "spark_jobs": {
                "numbers": {
                  "SUCCEEDED": 0,
                  "UNKNOWN": 0,
                  "FAILED": 0,
                  "RUNNING": 0
                },
                "jobs": [],
                "limit": 20,
                "rule": "ALL_DESC"
              },
              "parent_msg_id": "bd8a5f93-7c21-4037-acf6-7c29de2e4294"
            },
            "text/plain": "StatementMeta(3a48cab6-14d7-4197-8a6c-030cdba9ac7c, 2, 26, Finished, Available)"
          },
          "metadata": {}
        },
        {
          "output_type": "execute_result",
          "execution_count": 51,
          "data": {
            "text/plain": "      name  quote.USD.price                  timestamp\n0  Bitcoin      28379.31993 2023-10-19 01:28:44.812276\n0  Bitcoin      28379.31993 2023-10-19 01:28:57.443917\n0  Bitcoin      28384.82903 2023-10-19 01:29:57.936356\n0  Bitcoin      28390.94912 2023-10-19 01:30:58.253991\n0  Bitcoin      28393.28300 2023-10-19 01:31:58.652658\n0  Bitcoin      28385.30820 2023-10-19 01:32:59.517734\n0  Bitcoin      28383.77771 2023-10-19 01:33:59.937082",
            "text/html": "<div>\n<style scoped>\n    .dataframe tbody tr th:only-of-type {\n        vertical-align: middle;\n    }\n\n    .dataframe tbody tr th {\n        vertical-align: top;\n    }\n\n    .dataframe thead th {\n        text-align: right;\n    }\n</style>\n<table border=\"1\" class=\"dataframe\">\n  <thead>\n    <tr style=\"text-align: right;\">\n      <th></th>\n      <th>name</th>\n      <th>quote.USD.price</th>\n      <th>timestamp</th>\n    </tr>\n  </thead>\n  <tbody>\n    <tr>\n      <th>0</th>\n      <td>Bitcoin</td>\n      <td>28379.31993</td>\n      <td>2023-10-19 01:28:44.812276</td>\n    </tr>\n    <tr>\n      <th>0</th>\n      <td>Bitcoin</td>\n      <td>28379.31993</td>\n      <td>2023-10-19 01:28:57.443917</td>\n    </tr>\n    <tr>\n      <th>0</th>\n      <td>Bitcoin</td>\n      <td>28384.82903</td>\n      <td>2023-10-19 01:29:57.936356</td>\n    </tr>\n    <tr>\n      <th>0</th>\n      <td>Bitcoin</td>\n      <td>28390.94912</td>\n      <td>2023-10-19 01:30:58.253991</td>\n    </tr>\n    <tr>\n      <th>0</th>\n      <td>Bitcoin</td>\n      <td>28393.28300</td>\n      <td>2023-10-19 01:31:58.652658</td>\n    </tr>\n    <tr>\n      <th>0</th>\n      <td>Bitcoin</td>\n      <td>28385.30820</td>\n      <td>2023-10-19 01:32:59.517734</td>\n    </tr>\n    <tr>\n      <th>0</th>\n      <td>Bitcoin</td>\n      <td>28383.77771</td>\n      <td>2023-10-19 01:33:59.937082</td>\n    </tr>\n  </tbody>\n</table>\n</div>"
          },
          "metadata": {}
        }
      ],
      "execution_count": 21,
      "metadata": {
        "jupyter": {
          "source_hidden": false,
          "outputs_hidden": false
        },
        "nteract": {
          "transient": {
            "deleting": false
          }
        },
        "gather": {
          "logged": 1697679474420
        }
      }
    },
    {
      "cell_type": "code",
      "source": [
        "#Visualising Data\n",
        "\n",
        "sns.set_theme(style=\"darkgrid\")\n",
        "\n",
        "sns.lineplot(x='timestamp', y='quote.USD.price', data = df10)\n",
        "\n",
        " \n",
        "\n"
      ],
      "outputs": [
        {
          "output_type": "display_data",
          "data": {
            "application/vnd.livy.statement-meta+json": {
              "spark_pool": "3a48cab6-14d7-4197-8a6c-030cdba9ac7c",
              "session_id": "2",
              "statement_id": 27,
              "state": "finished",
              "livy_statement_state": "available",
              "queued_time": "2023-10-19T01:37:56.0851701Z",
              "session_start_time": null,
              "execution_start_time": "2023-10-19T01:37:56.2071284Z",
              "execution_finish_time": "2023-10-19T01:37:57.3044595Z",
              "spark_jobs": {
                "numbers": {
                  "SUCCEEDED": 0,
                  "UNKNOWN": 0,
                  "FAILED": 0,
                  "RUNNING": 0
                },
                "jobs": [],
                "limit": 20,
                "rule": "ALL_DESC"
              },
              "parent_msg_id": "5c32cb7c-a966-4dfa-8ed9-d417ede4a5cc"
            },
            "text/plain": "StatementMeta(3a48cab6-14d7-4197-8a6c-030cdba9ac7c, 2, 27, Finished, Available)"
          },
          "metadata": {}
        },
        {
          "output_type": "execute_result",
          "execution_count": 53,
          "data": {
            "text/plain": "<AxesSubplot:xlabel='timestamp', ylabel='quote.USD.price'>"
          },
          "metadata": {}
        },
        {
          "output_type": "display_data",
          "data": {
            "text/plain": "<Figure size 432x288 with 1 Axes>",
            "image/png": "[encoded data removed]"
          },
          "metadata": {}
        }
      ],
      "execution_count": 22,
      "metadata": {
        "jupyter": {
          "source_hidden": false,
          "outputs_hidden": false
        },
        "nteract": {
          "transient": {
            "deleting": false
          }
        },
        "gather": {
          "logged": 1697679477345
        }
      }
    },
    {
      "cell_type": "code",
      "source": [],
      "outputs": [],
      "execution_count": null,
      "metadata": {
        "jupyter": {
          "source_hidden": false,
          "outputs_hidden": false
        },
        "nteract": {
          "transient": {
            "deleting": false
          }
        }
      }
    }
  ],
  "metadata": {
    "kernelspec": {
      "name": "synapse_pyspark",
      "language": "Python",
      "display_name": "Synapse PySpark"
    },
    "language_info": {
      "name": "python",
      "version": "3.8.0",
      "mimetype": "text/x-python",
      "file_extension": ".py",
      "pygments_lexer": "ipython",
      "codemirror_mode": "ipython",
      "nbconvert_exporter": "python"
    },
    "microsoft": {
      "ms_spell_check": {
        "ms_spell_check_language": "en"
      },
      "host": {
        "AzureML": {
          "notebookHasBeenCompleted": true
        }
      }
    },
    "nteract": {
      "version": "nteract-front-end@1.0.0"
    },
    "kernel_info": {
      "name": "synapse_pyspark"
    }
  },
  "nbformat": 4,
  "nbformat_minor": 2
}